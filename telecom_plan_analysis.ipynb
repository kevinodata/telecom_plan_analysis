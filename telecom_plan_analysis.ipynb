{
 "cells": [
  {
   "cell_type": "markdown",
   "metadata": {},
   "source": [
    "# Telecom Plan Analysis"
   ]
  },
  {
   "cell_type": "markdown",
   "metadata": {},
   "source": [
    "In this notebook, we will review a few datasets compiled for customers of a telecom operator. This company offers two prepaid plans: Surf and Ultimate. We will analyze the data here to determine which of the two is more profitable. This analysis can help the company decide which plan is worth advertising more. \n",
    "\n",
    "The datasets will contain information on 500 clients, as well as the fine details on each plan. \n",
    "\n",
    "Let's start by loading and reviewing our data."
   ]
  },
  {
   "cell_type": "code",
   "execution_count": 1,
   "metadata": {},
   "outputs": [],
   "source": [
    "import pandas as pd\n",
    "import numpy as np\n",
    "\n",
    "user_data = pd.read_csv('/datasets/megaline_users.csv')\n",
    "call_data = pd.read_csv('/datasets/megaline_calls.csv')\n",
    "internet_data = pd.read_csv('/datasets/megaline_internet.csv')\n",
    "message_data = pd.read_csv('/datasets/megaline_messages.csv')\n",
    "plan_data = pd.read_csv('/datasets/megaline_plans.csv')"
   ]
  },
  {
   "cell_type": "code",
   "execution_count": 2,
   "metadata": {},
   "outputs": [
    {
     "data": {
      "text/html": [
       "<div>\n",
       "<style scoped>\n",
       "    .dataframe tbody tr th:only-of-type {\n",
       "        vertical-align: middle;\n",
       "    }\n",
       "\n",
       "    .dataframe tbody tr th {\n",
       "        vertical-align: top;\n",
       "    }\n",
       "\n",
       "    .dataframe thead th {\n",
       "        text-align: right;\n",
       "    }\n",
       "</style>\n",
       "<table border=\"1\" class=\"dataframe\">\n",
       "  <thead>\n",
       "    <tr style=\"text-align: right;\">\n",
       "      <th></th>\n",
       "      <th>user_id</th>\n",
       "      <th>age</th>\n",
       "    </tr>\n",
       "  </thead>\n",
       "  <tbody>\n",
       "    <tr>\n",
       "      <td>count</td>\n",
       "      <td>500.000000</td>\n",
       "      <td>500.000000</td>\n",
       "    </tr>\n",
       "    <tr>\n",
       "      <td>mean</td>\n",
       "      <td>1249.500000</td>\n",
       "      <td>45.486000</td>\n",
       "    </tr>\n",
       "    <tr>\n",
       "      <td>std</td>\n",
       "      <td>144.481833</td>\n",
       "      <td>16.972269</td>\n",
       "    </tr>\n",
       "    <tr>\n",
       "      <td>min</td>\n",
       "      <td>1000.000000</td>\n",
       "      <td>18.000000</td>\n",
       "    </tr>\n",
       "    <tr>\n",
       "      <td>25%</td>\n",
       "      <td>1124.750000</td>\n",
       "      <td>30.000000</td>\n",
       "    </tr>\n",
       "    <tr>\n",
       "      <td>50%</td>\n",
       "      <td>1249.500000</td>\n",
       "      <td>46.000000</td>\n",
       "    </tr>\n",
       "    <tr>\n",
       "      <td>75%</td>\n",
       "      <td>1374.250000</td>\n",
       "      <td>61.000000</td>\n",
       "    </tr>\n",
       "    <tr>\n",
       "      <td>max</td>\n",
       "      <td>1499.000000</td>\n",
       "      <td>75.000000</td>\n",
       "    </tr>\n",
       "  </tbody>\n",
       "</table>\n",
       "</div>"
      ],
      "text/plain": [
       "           user_id         age\n",
       "count   500.000000  500.000000\n",
       "mean   1249.500000   45.486000\n",
       "std     144.481833   16.972269\n",
       "min    1000.000000   18.000000\n",
       "25%    1124.750000   30.000000\n",
       "50%    1249.500000   46.000000\n",
       "75%    1374.250000   61.000000\n",
       "max    1499.000000   75.000000"
      ]
     },
     "metadata": {},
     "output_type": "display_data"
    },
    {
     "data": {
      "text/html": [
       "<div>\n",
       "<style scoped>\n",
       "    .dataframe tbody tr th:only-of-type {\n",
       "        vertical-align: middle;\n",
       "    }\n",
       "\n",
       "    .dataframe tbody tr th {\n",
       "        vertical-align: top;\n",
       "    }\n",
       "\n",
       "    .dataframe thead th {\n",
       "        text-align: right;\n",
       "    }\n",
       "</style>\n",
       "<table border=\"1\" class=\"dataframe\">\n",
       "  <thead>\n",
       "    <tr style=\"text-align: right;\">\n",
       "      <th></th>\n",
       "      <th>user_id</th>\n",
       "      <th>first_name</th>\n",
       "      <th>last_name</th>\n",
       "      <th>age</th>\n",
       "      <th>city</th>\n",
       "      <th>reg_date</th>\n",
       "      <th>plan</th>\n",
       "      <th>churn_date</th>\n",
       "    </tr>\n",
       "  </thead>\n",
       "  <tbody>\n",
       "    <tr>\n",
       "      <td>0</td>\n",
       "      <td>1000</td>\n",
       "      <td>Anamaria</td>\n",
       "      <td>Bauer</td>\n",
       "      <td>45</td>\n",
       "      <td>Atlanta-Sandy Springs-Roswell, GA MSA</td>\n",
       "      <td>2018-12-24</td>\n",
       "      <td>ultimate</td>\n",
       "      <td>NaN</td>\n",
       "    </tr>\n",
       "    <tr>\n",
       "      <td>1</td>\n",
       "      <td>1001</td>\n",
       "      <td>Mickey</td>\n",
       "      <td>Wilkerson</td>\n",
       "      <td>28</td>\n",
       "      <td>Seattle-Tacoma-Bellevue, WA MSA</td>\n",
       "      <td>2018-08-13</td>\n",
       "      <td>surf</td>\n",
       "      <td>NaN</td>\n",
       "    </tr>\n",
       "    <tr>\n",
       "      <td>2</td>\n",
       "      <td>1002</td>\n",
       "      <td>Carlee</td>\n",
       "      <td>Hoffman</td>\n",
       "      <td>36</td>\n",
       "      <td>Las Vegas-Henderson-Paradise, NV MSA</td>\n",
       "      <td>2018-10-21</td>\n",
       "      <td>surf</td>\n",
       "      <td>NaN</td>\n",
       "    </tr>\n",
       "    <tr>\n",
       "      <td>3</td>\n",
       "      <td>1003</td>\n",
       "      <td>Reynaldo</td>\n",
       "      <td>Jenkins</td>\n",
       "      <td>52</td>\n",
       "      <td>Tulsa, OK MSA</td>\n",
       "      <td>2018-01-28</td>\n",
       "      <td>surf</td>\n",
       "      <td>NaN</td>\n",
       "    </tr>\n",
       "    <tr>\n",
       "      <td>4</td>\n",
       "      <td>1004</td>\n",
       "      <td>Leonila</td>\n",
       "      <td>Thompson</td>\n",
       "      <td>40</td>\n",
       "      <td>Seattle-Tacoma-Bellevue, WA MSA</td>\n",
       "      <td>2018-05-23</td>\n",
       "      <td>surf</td>\n",
       "      <td>NaN</td>\n",
       "    </tr>\n",
       "  </tbody>\n",
       "</table>\n",
       "</div>"
      ],
      "text/plain": [
       "   user_id first_name  last_name  age                                   city  \\\n",
       "0     1000   Anamaria      Bauer   45  Atlanta-Sandy Springs-Roswell, GA MSA   \n",
       "1     1001     Mickey  Wilkerson   28        Seattle-Tacoma-Bellevue, WA MSA   \n",
       "2     1002     Carlee    Hoffman   36   Las Vegas-Henderson-Paradise, NV MSA   \n",
       "3     1003   Reynaldo    Jenkins   52                          Tulsa, OK MSA   \n",
       "4     1004    Leonila   Thompson   40        Seattle-Tacoma-Bellevue, WA MSA   \n",
       "\n",
       "     reg_date      plan churn_date  \n",
       "0  2018-12-24  ultimate        NaN  \n",
       "1  2018-08-13      surf        NaN  \n",
       "2  2018-10-21      surf        NaN  \n",
       "3  2018-01-28      surf        NaN  \n",
       "4  2018-05-23      surf        NaN  "
      ]
     },
     "execution_count": 2,
     "metadata": {},
     "output_type": "execute_result"
    }
   ],
   "source": [
    "display(user_data.describe())\n",
    "user_data.head()"
   ]
  },
  {
   "cell_type": "markdown",
   "metadata": {},
   "source": [
    "In the first dataset - the user data - we have our user_id (an identifier we will see in the other tables), the user's first and last name, age, city of residence, plan start date, plan type, and whether they canceled their plan (churn_date specifies when the plan ended). If the churn_date is null (or NaN), then they are still a customer. We will address this when we start cleaning our tables, but for now let's continue. "
   ]
  },
  {
   "cell_type": "code",
   "execution_count": 3,
   "metadata": {},
   "outputs": [
    {
     "data": {
      "text/html": [
       "<div>\n",
       "<style scoped>\n",
       "    .dataframe tbody tr th:only-of-type {\n",
       "        vertical-align: middle;\n",
       "    }\n",
       "\n",
       "    .dataframe tbody tr th {\n",
       "        vertical-align: top;\n",
       "    }\n",
       "\n",
       "    .dataframe thead th {\n",
       "        text-align: right;\n",
       "    }\n",
       "</style>\n",
       "<table border=\"1\" class=\"dataframe\">\n",
       "  <thead>\n",
       "    <tr style=\"text-align: right;\">\n",
       "      <th></th>\n",
       "      <th>user_id</th>\n",
       "      <th>duration</th>\n",
       "    </tr>\n",
       "  </thead>\n",
       "  <tbody>\n",
       "    <tr>\n",
       "      <td>count</td>\n",
       "      <td>137735.000000</td>\n",
       "      <td>137735.000000</td>\n",
       "    </tr>\n",
       "    <tr>\n",
       "      <td>mean</td>\n",
       "      <td>1247.658046</td>\n",
       "      <td>6.745927</td>\n",
       "    </tr>\n",
       "    <tr>\n",
       "      <td>std</td>\n",
       "      <td>139.416268</td>\n",
       "      <td>5.839241</td>\n",
       "    </tr>\n",
       "    <tr>\n",
       "      <td>min</td>\n",
       "      <td>1000.000000</td>\n",
       "      <td>0.000000</td>\n",
       "    </tr>\n",
       "    <tr>\n",
       "      <td>25%</td>\n",
       "      <td>1128.000000</td>\n",
       "      <td>1.290000</td>\n",
       "    </tr>\n",
       "    <tr>\n",
       "      <td>50%</td>\n",
       "      <td>1247.000000</td>\n",
       "      <td>5.980000</td>\n",
       "    </tr>\n",
       "    <tr>\n",
       "      <td>75%</td>\n",
       "      <td>1365.000000</td>\n",
       "      <td>10.690000</td>\n",
       "    </tr>\n",
       "    <tr>\n",
       "      <td>max</td>\n",
       "      <td>1499.000000</td>\n",
       "      <td>37.600000</td>\n",
       "    </tr>\n",
       "  </tbody>\n",
       "</table>\n",
       "</div>"
      ],
      "text/plain": [
       "             user_id       duration\n",
       "count  137735.000000  137735.000000\n",
       "mean     1247.658046       6.745927\n",
       "std       139.416268       5.839241\n",
       "min      1000.000000       0.000000\n",
       "25%      1128.000000       1.290000\n",
       "50%      1247.000000       5.980000\n",
       "75%      1365.000000      10.690000\n",
       "max      1499.000000      37.600000"
      ]
     },
     "metadata": {},
     "output_type": "display_data"
    },
    {
     "data": {
      "text/html": [
       "<div>\n",
       "<style scoped>\n",
       "    .dataframe tbody tr th:only-of-type {\n",
       "        vertical-align: middle;\n",
       "    }\n",
       "\n",
       "    .dataframe tbody tr th {\n",
       "        vertical-align: top;\n",
       "    }\n",
       "\n",
       "    .dataframe thead th {\n",
       "        text-align: right;\n",
       "    }\n",
       "</style>\n",
       "<table border=\"1\" class=\"dataframe\">\n",
       "  <thead>\n",
       "    <tr style=\"text-align: right;\">\n",
       "      <th></th>\n",
       "      <th>id</th>\n",
       "      <th>user_id</th>\n",
       "      <th>call_date</th>\n",
       "      <th>duration</th>\n",
       "    </tr>\n",
       "  </thead>\n",
       "  <tbody>\n",
       "    <tr>\n",
       "      <td>0</td>\n",
       "      <td>1000_93</td>\n",
       "      <td>1000</td>\n",
       "      <td>2018-12-27</td>\n",
       "      <td>8.52</td>\n",
       "    </tr>\n",
       "    <tr>\n",
       "      <td>1</td>\n",
       "      <td>1000_145</td>\n",
       "      <td>1000</td>\n",
       "      <td>2018-12-27</td>\n",
       "      <td>13.66</td>\n",
       "    </tr>\n",
       "    <tr>\n",
       "      <td>2</td>\n",
       "      <td>1000_247</td>\n",
       "      <td>1000</td>\n",
       "      <td>2018-12-27</td>\n",
       "      <td>14.48</td>\n",
       "    </tr>\n",
       "    <tr>\n",
       "      <td>3</td>\n",
       "      <td>1000_309</td>\n",
       "      <td>1000</td>\n",
       "      <td>2018-12-28</td>\n",
       "      <td>5.76</td>\n",
       "    </tr>\n",
       "    <tr>\n",
       "      <td>4</td>\n",
       "      <td>1000_380</td>\n",
       "      <td>1000</td>\n",
       "      <td>2018-12-30</td>\n",
       "      <td>4.22</td>\n",
       "    </tr>\n",
       "  </tbody>\n",
       "</table>\n",
       "</div>"
      ],
      "text/plain": [
       "         id  user_id   call_date  duration\n",
       "0   1000_93     1000  2018-12-27      8.52\n",
       "1  1000_145     1000  2018-12-27     13.66\n",
       "2  1000_247     1000  2018-12-27     14.48\n",
       "3  1000_309     1000  2018-12-28      5.76\n",
       "4  1000_380     1000  2018-12-30      4.22"
      ]
     },
     "execution_count": 3,
     "metadata": {},
     "output_type": "execute_result"
    }
   ],
   "source": [
    "display(call_data.describe())\n",
    "call_data.head()"
   ]
  },
  {
   "cell_type": "markdown",
   "metadata": {},
   "source": [
    "This table is fairly straightforward. We have the same user_id, as well as an id column. The id column specifies a unique identifier for the call. We probably won't need this one for our analysis but we'll save that for later as well. Otherwise we have the call date and a duration in decimal minutes. The telecom company counts and charges calls by the minute and rounds up - so we will need to fix this later in our data wrangling."
   ]
  },
  {
   "cell_type": "code",
   "execution_count": 4,
   "metadata": {},
   "outputs": [
    {
     "data": {
      "text/html": [
       "<div>\n",
       "<style scoped>\n",
       "    .dataframe tbody tr th:only-of-type {\n",
       "        vertical-align: middle;\n",
       "    }\n",
       "\n",
       "    .dataframe tbody tr th {\n",
       "        vertical-align: top;\n",
       "    }\n",
       "\n",
       "    .dataframe thead th {\n",
       "        text-align: right;\n",
       "    }\n",
       "</style>\n",
       "<table border=\"1\" class=\"dataframe\">\n",
       "  <thead>\n",
       "    <tr style=\"text-align: right;\">\n",
       "      <th></th>\n",
       "      <th>user_id</th>\n",
       "      <th>mb_used</th>\n",
       "    </tr>\n",
       "  </thead>\n",
       "  <tbody>\n",
       "    <tr>\n",
       "      <td>count</td>\n",
       "      <td>104825.000000</td>\n",
       "      <td>104825.000000</td>\n",
       "    </tr>\n",
       "    <tr>\n",
       "      <td>mean</td>\n",
       "      <td>1242.496361</td>\n",
       "      <td>366.713701</td>\n",
       "    </tr>\n",
       "    <tr>\n",
       "      <td>std</td>\n",
       "      <td>142.053913</td>\n",
       "      <td>277.170542</td>\n",
       "    </tr>\n",
       "    <tr>\n",
       "      <td>min</td>\n",
       "      <td>1000.000000</td>\n",
       "      <td>0.000000</td>\n",
       "    </tr>\n",
       "    <tr>\n",
       "      <td>25%</td>\n",
       "      <td>1122.000000</td>\n",
       "      <td>136.080000</td>\n",
       "    </tr>\n",
       "    <tr>\n",
       "      <td>50%</td>\n",
       "      <td>1236.000000</td>\n",
       "      <td>343.980000</td>\n",
       "    </tr>\n",
       "    <tr>\n",
       "      <td>75%</td>\n",
       "      <td>1367.000000</td>\n",
       "      <td>554.610000</td>\n",
       "    </tr>\n",
       "    <tr>\n",
       "      <td>max</td>\n",
       "      <td>1499.000000</td>\n",
       "      <td>1693.470000</td>\n",
       "    </tr>\n",
       "  </tbody>\n",
       "</table>\n",
       "</div>"
      ],
      "text/plain": [
       "             user_id        mb_used\n",
       "count  104825.000000  104825.000000\n",
       "mean     1242.496361     366.713701\n",
       "std       142.053913     277.170542\n",
       "min      1000.000000       0.000000\n",
       "25%      1122.000000     136.080000\n",
       "50%      1236.000000     343.980000\n",
       "75%      1367.000000     554.610000\n",
       "max      1499.000000    1693.470000"
      ]
     },
     "metadata": {},
     "output_type": "display_data"
    },
    {
     "data": {
      "text/html": [
       "<div>\n",
       "<style scoped>\n",
       "    .dataframe tbody tr th:only-of-type {\n",
       "        vertical-align: middle;\n",
       "    }\n",
       "\n",
       "    .dataframe tbody tr th {\n",
       "        vertical-align: top;\n",
       "    }\n",
       "\n",
       "    .dataframe thead th {\n",
       "        text-align: right;\n",
       "    }\n",
       "</style>\n",
       "<table border=\"1\" class=\"dataframe\">\n",
       "  <thead>\n",
       "    <tr style=\"text-align: right;\">\n",
       "      <th></th>\n",
       "      <th>id</th>\n",
       "      <th>user_id</th>\n",
       "      <th>session_date</th>\n",
       "      <th>mb_used</th>\n",
       "    </tr>\n",
       "  </thead>\n",
       "  <tbody>\n",
       "    <tr>\n",
       "      <td>0</td>\n",
       "      <td>1000_13</td>\n",
       "      <td>1000</td>\n",
       "      <td>2018-12-29</td>\n",
       "      <td>89.86</td>\n",
       "    </tr>\n",
       "    <tr>\n",
       "      <td>1</td>\n",
       "      <td>1000_204</td>\n",
       "      <td>1000</td>\n",
       "      <td>2018-12-31</td>\n",
       "      <td>0.00</td>\n",
       "    </tr>\n",
       "    <tr>\n",
       "      <td>2</td>\n",
       "      <td>1000_379</td>\n",
       "      <td>1000</td>\n",
       "      <td>2018-12-28</td>\n",
       "      <td>660.40</td>\n",
       "    </tr>\n",
       "    <tr>\n",
       "      <td>3</td>\n",
       "      <td>1000_413</td>\n",
       "      <td>1000</td>\n",
       "      <td>2018-12-26</td>\n",
       "      <td>270.99</td>\n",
       "    </tr>\n",
       "    <tr>\n",
       "      <td>4</td>\n",
       "      <td>1000_442</td>\n",
       "      <td>1000</td>\n",
       "      <td>2018-12-27</td>\n",
       "      <td>880.22</td>\n",
       "    </tr>\n",
       "  </tbody>\n",
       "</table>\n",
       "</div>"
      ],
      "text/plain": [
       "         id  user_id session_date  mb_used\n",
       "0   1000_13     1000   2018-12-29    89.86\n",
       "1  1000_204     1000   2018-12-31     0.00\n",
       "2  1000_379     1000   2018-12-28   660.40\n",
       "3  1000_413     1000   2018-12-26   270.99\n",
       "4  1000_442     1000   2018-12-27   880.22"
      ]
     },
     "execution_count": 4,
     "metadata": {},
     "output_type": "execute_result"
    }
   ],
   "source": [
    "display(internet_data.describe())\n",
    "internet_data.head()"
   ]
  },
  {
   "cell_type": "markdown",
   "metadata": {},
   "source": [
    "Just like the last one, we have two id columns, a session date, and the MB of data used on a web session. The telecom company does not round the MB used per session, but rather the total for the month. So when we start to analyze these plans for profitability, we will need to keep that in mind. The total MB used by a user per month will need to be rounded up to the nearest GB. "
   ]
  },
  {
   "cell_type": "code",
   "execution_count": 5,
   "metadata": {},
   "outputs": [
    {
     "data": {
      "text/html": [
       "<div>\n",
       "<style scoped>\n",
       "    .dataframe tbody tr th:only-of-type {\n",
       "        vertical-align: middle;\n",
       "    }\n",
       "\n",
       "    .dataframe tbody tr th {\n",
       "        vertical-align: top;\n",
       "    }\n",
       "\n",
       "    .dataframe thead th {\n",
       "        text-align: right;\n",
       "    }\n",
       "</style>\n",
       "<table border=\"1\" class=\"dataframe\">\n",
       "  <thead>\n",
       "    <tr style=\"text-align: right;\">\n",
       "      <th></th>\n",
       "      <th>user_id</th>\n",
       "    </tr>\n",
       "  </thead>\n",
       "  <tbody>\n",
       "    <tr>\n",
       "      <td>count</td>\n",
       "      <td>76051.000000</td>\n",
       "    </tr>\n",
       "    <tr>\n",
       "      <td>mean</td>\n",
       "      <td>1245.972768</td>\n",
       "    </tr>\n",
       "    <tr>\n",
       "      <td>std</td>\n",
       "      <td>139.843635</td>\n",
       "    </tr>\n",
       "    <tr>\n",
       "      <td>min</td>\n",
       "      <td>1000.000000</td>\n",
       "    </tr>\n",
       "    <tr>\n",
       "      <td>25%</td>\n",
       "      <td>1123.000000</td>\n",
       "    </tr>\n",
       "    <tr>\n",
       "      <td>50%</td>\n",
       "      <td>1251.000000</td>\n",
       "    </tr>\n",
       "    <tr>\n",
       "      <td>75%</td>\n",
       "      <td>1362.000000</td>\n",
       "    </tr>\n",
       "    <tr>\n",
       "      <td>max</td>\n",
       "      <td>1497.000000</td>\n",
       "    </tr>\n",
       "  </tbody>\n",
       "</table>\n",
       "</div>"
      ],
      "text/plain": [
       "            user_id\n",
       "count  76051.000000\n",
       "mean    1245.972768\n",
       "std      139.843635\n",
       "min     1000.000000\n",
       "25%     1123.000000\n",
       "50%     1251.000000\n",
       "75%     1362.000000\n",
       "max     1497.000000"
      ]
     },
     "metadata": {},
     "output_type": "display_data"
    },
    {
     "data": {
      "text/html": [
       "<div>\n",
       "<style scoped>\n",
       "    .dataframe tbody tr th:only-of-type {\n",
       "        vertical-align: middle;\n",
       "    }\n",
       "\n",
       "    .dataframe tbody tr th {\n",
       "        vertical-align: top;\n",
       "    }\n",
       "\n",
       "    .dataframe thead th {\n",
       "        text-align: right;\n",
       "    }\n",
       "</style>\n",
       "<table border=\"1\" class=\"dataframe\">\n",
       "  <thead>\n",
       "    <tr style=\"text-align: right;\">\n",
       "      <th></th>\n",
       "      <th>id</th>\n",
       "      <th>user_id</th>\n",
       "      <th>message_date</th>\n",
       "    </tr>\n",
       "  </thead>\n",
       "  <tbody>\n",
       "    <tr>\n",
       "      <td>0</td>\n",
       "      <td>1000_125</td>\n",
       "      <td>1000</td>\n",
       "      <td>2018-12-27</td>\n",
       "    </tr>\n",
       "    <tr>\n",
       "      <td>1</td>\n",
       "      <td>1000_160</td>\n",
       "      <td>1000</td>\n",
       "      <td>2018-12-31</td>\n",
       "    </tr>\n",
       "    <tr>\n",
       "      <td>2</td>\n",
       "      <td>1000_223</td>\n",
       "      <td>1000</td>\n",
       "      <td>2018-12-31</td>\n",
       "    </tr>\n",
       "    <tr>\n",
       "      <td>3</td>\n",
       "      <td>1000_251</td>\n",
       "      <td>1000</td>\n",
       "      <td>2018-12-27</td>\n",
       "    </tr>\n",
       "    <tr>\n",
       "      <td>4</td>\n",
       "      <td>1000_255</td>\n",
       "      <td>1000</td>\n",
       "      <td>2018-12-26</td>\n",
       "    </tr>\n",
       "  </tbody>\n",
       "</table>\n",
       "</div>"
      ],
      "text/plain": [
       "         id  user_id message_date\n",
       "0  1000_125     1000   2018-12-27\n",
       "1  1000_160     1000   2018-12-31\n",
       "2  1000_223     1000   2018-12-31\n",
       "3  1000_251     1000   2018-12-27\n",
       "4  1000_255     1000   2018-12-26"
      ]
     },
     "execution_count": 5,
     "metadata": {},
     "output_type": "execute_result"
    }
   ],
   "source": [
    "display(message_data.describe())\n",
    "message_data.head()"
   ]
  },
  {
   "cell_type": "markdown",
   "metadata": {},
   "source": [
    "Nothing we haven't seen before here. Two id columns for the text message, and a timestamp."
   ]
  },
  {
   "cell_type": "code",
   "execution_count": 6,
   "metadata": {},
   "outputs": [
    {
     "data": {
      "text/html": [
       "<div>\n",
       "<style scoped>\n",
       "    .dataframe tbody tr th:only-of-type {\n",
       "        vertical-align: middle;\n",
       "    }\n",
       "\n",
       "    .dataframe tbody tr th {\n",
       "        vertical-align: top;\n",
       "    }\n",
       "\n",
       "    .dataframe thead th {\n",
       "        text-align: right;\n",
       "    }\n",
       "</style>\n",
       "<table border=\"1\" class=\"dataframe\">\n",
       "  <thead>\n",
       "    <tr style=\"text-align: right;\">\n",
       "      <th></th>\n",
       "      <th>messages_included</th>\n",
       "      <th>mb_per_month_included</th>\n",
       "      <th>minutes_included</th>\n",
       "      <th>usd_monthly_pay</th>\n",
       "      <th>usd_per_gb</th>\n",
       "      <th>usd_per_message</th>\n",
       "      <th>usd_per_minute</th>\n",
       "      <th>plan_name</th>\n",
       "    </tr>\n",
       "  </thead>\n",
       "  <tbody>\n",
       "    <tr>\n",
       "      <td>0</td>\n",
       "      <td>50</td>\n",
       "      <td>15360</td>\n",
       "      <td>500</td>\n",
       "      <td>20</td>\n",
       "      <td>10</td>\n",
       "      <td>0.03</td>\n",
       "      <td>0.03</td>\n",
       "      <td>surf</td>\n",
       "    </tr>\n",
       "    <tr>\n",
       "      <td>1</td>\n",
       "      <td>1000</td>\n",
       "      <td>30720</td>\n",
       "      <td>3000</td>\n",
       "      <td>70</td>\n",
       "      <td>7</td>\n",
       "      <td>0.01</td>\n",
       "      <td>0.01</td>\n",
       "      <td>ultimate</td>\n",
       "    </tr>\n",
       "  </tbody>\n",
       "</table>\n",
       "</div>"
      ],
      "text/plain": [
       "   messages_included  mb_per_month_included  minutes_included  \\\n",
       "0                 50                  15360               500   \n",
       "1               1000                  30720              3000   \n",
       "\n",
       "   usd_monthly_pay  usd_per_gb  usd_per_message  usd_per_minute plan_name  \n",
       "0               20          10             0.03            0.03      surf  \n",
       "1               70           7             0.01            0.01  ultimate  "
      ]
     },
     "execution_count": 6,
     "metadata": {},
     "output_type": "execute_result"
    }
   ],
   "source": [
    "plan_data.head()"
   ]
  },
  {
   "cell_type": "markdown",
   "metadata": {},
   "source": [
    "And lastly, above we can see the information about our two plans. We can see the total messages, data, and call minutes included, as well as the price of the plan, and how much you would be charged for each minute, message, or GB over plan.\n",
    "\n",
    "Now that we have a good idea of what we are dealing with, let's go back to each one and fix the data types, check for nulls and duplicates, and create some more helpful features."
   ]
  },
  {
   "cell_type": "markdown",
   "metadata": {},
   "source": [
    "## Data Wrangling"
   ]
  },
  {
   "cell_type": "markdown",
   "metadata": {},
   "source": [
    "### User Data"
   ]
  },
  {
   "cell_type": "markdown",
   "metadata": {},
   "source": [
    "First we'll take a look at our user data. It's the biggest and will probably need the most help."
   ]
  },
  {
   "cell_type": "code",
   "execution_count": 7,
   "metadata": {},
   "outputs": [
    {
     "data": {
      "text/html": [
       "<div>\n",
       "<style scoped>\n",
       "    .dataframe tbody tr th:only-of-type {\n",
       "        vertical-align: middle;\n",
       "    }\n",
       "\n",
       "    .dataframe tbody tr th {\n",
       "        vertical-align: top;\n",
       "    }\n",
       "\n",
       "    .dataframe thead th {\n",
       "        text-align: right;\n",
       "    }\n",
       "</style>\n",
       "<table border=\"1\" class=\"dataframe\">\n",
       "  <thead>\n",
       "    <tr style=\"text-align: right;\">\n",
       "      <th></th>\n",
       "      <th>user_id</th>\n",
       "      <th>first_name</th>\n",
       "      <th>last_name</th>\n",
       "      <th>age</th>\n",
       "      <th>city</th>\n",
       "      <th>reg_date</th>\n",
       "      <th>plan</th>\n",
       "      <th>churn_date</th>\n",
       "    </tr>\n",
       "  </thead>\n",
       "  <tbody>\n",
       "    <tr>\n",
       "      <td>0</td>\n",
       "      <td>1000</td>\n",
       "      <td>Anamaria</td>\n",
       "      <td>Bauer</td>\n",
       "      <td>45</td>\n",
       "      <td>Atlanta-Sandy Springs-Roswell, GA MSA</td>\n",
       "      <td>2018-12-24</td>\n",
       "      <td>ultimate</td>\n",
       "      <td>NaN</td>\n",
       "    </tr>\n",
       "    <tr>\n",
       "      <td>1</td>\n",
       "      <td>1001</td>\n",
       "      <td>Mickey</td>\n",
       "      <td>Wilkerson</td>\n",
       "      <td>28</td>\n",
       "      <td>Seattle-Tacoma-Bellevue, WA MSA</td>\n",
       "      <td>2018-08-13</td>\n",
       "      <td>surf</td>\n",
       "      <td>NaN</td>\n",
       "    </tr>\n",
       "    <tr>\n",
       "      <td>2</td>\n",
       "      <td>1002</td>\n",
       "      <td>Carlee</td>\n",
       "      <td>Hoffman</td>\n",
       "      <td>36</td>\n",
       "      <td>Las Vegas-Henderson-Paradise, NV MSA</td>\n",
       "      <td>2018-10-21</td>\n",
       "      <td>surf</td>\n",
       "      <td>NaN</td>\n",
       "    </tr>\n",
       "    <tr>\n",
       "      <td>3</td>\n",
       "      <td>1003</td>\n",
       "      <td>Reynaldo</td>\n",
       "      <td>Jenkins</td>\n",
       "      <td>52</td>\n",
       "      <td>Tulsa, OK MSA</td>\n",
       "      <td>2018-01-28</td>\n",
       "      <td>surf</td>\n",
       "      <td>NaN</td>\n",
       "    </tr>\n",
       "    <tr>\n",
       "      <td>4</td>\n",
       "      <td>1004</td>\n",
       "      <td>Leonila</td>\n",
       "      <td>Thompson</td>\n",
       "      <td>40</td>\n",
       "      <td>Seattle-Tacoma-Bellevue, WA MSA</td>\n",
       "      <td>2018-05-23</td>\n",
       "      <td>surf</td>\n",
       "      <td>NaN</td>\n",
       "    </tr>\n",
       "  </tbody>\n",
       "</table>\n",
       "</div>"
      ],
      "text/plain": [
       "   user_id first_name  last_name  age                                   city  \\\n",
       "0     1000   Anamaria      Bauer   45  Atlanta-Sandy Springs-Roswell, GA MSA   \n",
       "1     1001     Mickey  Wilkerson   28        Seattle-Tacoma-Bellevue, WA MSA   \n",
       "2     1002     Carlee    Hoffman   36   Las Vegas-Henderson-Paradise, NV MSA   \n",
       "3     1003   Reynaldo    Jenkins   52                          Tulsa, OK MSA   \n",
       "4     1004    Leonila   Thompson   40        Seattle-Tacoma-Bellevue, WA MSA   \n",
       "\n",
       "     reg_date      plan churn_date  \n",
       "0  2018-12-24  ultimate        NaN  \n",
       "1  2018-08-13      surf        NaN  \n",
       "2  2018-10-21      surf        NaN  \n",
       "3  2018-01-28      surf        NaN  \n",
       "4  2018-05-23      surf        NaN  "
      ]
     },
     "execution_count": 7,
     "metadata": {},
     "output_type": "execute_result"
    }
   ],
   "source": [
    "user_data.head()"
   ]
  },
  {
   "cell_type": "code",
   "execution_count": 8,
   "metadata": {},
   "outputs": [
    {
     "data": {
      "text/plain": [
       "user_id         0\n",
       "first_name      0\n",
       "last_name       0\n",
       "age             0\n",
       "city            0\n",
       "reg_date        0\n",
       "plan            0\n",
       "churn_date    466\n",
       "dtype: int64"
      ]
     },
     "execution_count": 8,
     "metadata": {},
     "output_type": "execute_result"
    }
   ],
   "source": [
    "user_data.isna().sum()"
   ]
  },
  {
   "cell_type": "markdown",
   "metadata": {},
   "source": [
    "That's what we like to see! No missing values with the exception of the churn_date - but we expected those and know what they mean already. The \"null\" churn_date simply means that the user is an active customer. Let's leave it for now so that we can convert the column to date-time format later."
   ]
  },
  {
   "cell_type": "markdown",
   "metadata": {},
   "source": [
    "Next let's look at the data types"
   ]
  },
  {
   "cell_type": "code",
   "execution_count": 9,
   "metadata": {},
   "outputs": [
    {
     "data": {
      "text/plain": [
       "user_id        int64\n",
       "first_name    object\n",
       "last_name     object\n",
       "age            int64\n",
       "city          object\n",
       "reg_date      object\n",
       "plan          object\n",
       "churn_date    object\n",
       "dtype: object"
      ]
     },
     "execution_count": 9,
     "metadata": {},
     "output_type": "execute_result"
    }
   ],
   "source": [
    "user_data.dtypes"
   ]
  },
  {
   "cell_type": "markdown",
   "metadata": {},
   "source": [
    "The types are clear, but I think we need to take a closer look at a few of the object columns to make sure. I want to check the city as it could have some messy strings. I also want to adjust the reg_date to date-time format. We can do this with the churn_date as well. Lastly, I want to look at the plans and make sure that we only have two: Surf or Ultimate."
   ]
  },
  {
   "cell_type": "code",
   "execution_count": 10,
   "metadata": {},
   "outputs": [
    {
     "data": {
      "text/plain": [
       "['Albany-Schenectady-Troy, NY MSA',\n",
       " 'Albuquerque, NM MSA',\n",
       " 'Atlanta-Sandy Springs-Roswell, GA MSA',\n",
       " 'Austin-Round Rock-Georgetown, TX MSA',\n",
       " 'Bakersfield, CA MSA',\n",
       " 'Baltimore-Columbia-Towson, MD MSA',\n",
       " 'Baton Rouge, LA MSA',\n",
       " 'Birmingham-Hoover, AL MSA',\n",
       " 'Boston-Cambridge-Newton, MA-NH MSA',\n",
       " 'Bridgeport-Stamford-Norwalk, CT MSA',\n",
       " 'Buffalo-Cheektowaga, NY MSA',\n",
       " 'Cape Coral-Fort Myers, FL MSA',\n",
       " 'Charleston-North Charleston, SC MSA',\n",
       " 'Charlotte-Concord-Gastonia, NC-SC MSA',\n",
       " 'Chicago-Naperville-Elgin, IL-IN-WI MSA',\n",
       " 'Cincinnati, OH-KY-IN MSA',\n",
       " 'Cleveland-Elyria, OH MSA',\n",
       " 'Colorado Springs, CO MSA',\n",
       " 'Columbia, SC MSA',\n",
       " 'Columbus, OH MSA',\n",
       " 'Dallas-Fort Worth-Arlington, TX MSA',\n",
       " 'Dayton-Kettering, OH MSA',\n",
       " 'Denver-Aurora-Lakewood, CO MSA',\n",
       " 'Detroit-Warren-Dearborn, MI MSA',\n",
       " 'El Paso, TX MSA',\n",
       " 'Fresno, CA MSA',\n",
       " 'Grand Rapids-Kentwood, MI MSA',\n",
       " 'Greensboro-High Point, NC MSA',\n",
       " 'Houston-The Woodlands-Sugar Land, TX MSA',\n",
       " 'Indianapolis-Carmel-Anderson, IN MSA',\n",
       " 'Jacksonville, FL MSA',\n",
       " 'Kansas City, MO-KS MSA',\n",
       " 'Knoxville, TN MSA',\n",
       " 'Las Vegas-Henderson-Paradise, NV MSA',\n",
       " 'Los Angeles-Long Beach-Anaheim, CA MSA',\n",
       " 'Louisville/Jefferson County, KY-IN MSA',\n",
       " 'Memphis, TN-MS-AR MSA',\n",
       " 'Miami-Fort Lauderdale-West Palm Beach, FL MSA',\n",
       " 'Milwaukee-Waukesha, WI MSA',\n",
       " 'Minneapolis-St. Paul-Bloomington, MN-WI MSA',\n",
       " 'Nashville-Davidson–Murfreesboro–Franklin, TN MSA',\n",
       " 'New Haven-Milford, CT MSA',\n",
       " 'New Orleans-Metairie, LA MSA',\n",
       " 'New York-Newark-Jersey City, NY-NJ-PA MSA',\n",
       " 'North Port-Sarasota-Bradenton, FL MSA',\n",
       " 'Oklahoma City, OK MSA',\n",
       " 'Omaha-Council Bluffs, NE-IA MSA',\n",
       " 'Orlando-Kissimmee-Sanford, FL MSA',\n",
       " 'Oxnard-Thousand Oaks-Ventura, CA MSA',\n",
       " 'Philadelphia-Camden-Wilmington, PA-NJ-DE-MD MSA',\n",
       " 'Phoenix-Mesa-Chandler, AZ MSA',\n",
       " 'Pittsburgh, PA MSA',\n",
       " 'Portland-Vancouver-Hillsboro, OR-WA MSA',\n",
       " 'Providence-Warwick, RI-MA MSA',\n",
       " 'Raleigh-Cary, NC MSA',\n",
       " 'Richmond, VA MSA',\n",
       " 'Riverside-San Bernardino-Ontario, CA MSA',\n",
       " 'Rochester, NY MSA',\n",
       " 'Sacramento–Roseville–Folsom, CA MSA',\n",
       " 'Salt Lake City, UT MSA',\n",
       " 'San Antonio-New Braunfels, TX MSA',\n",
       " 'San Diego-Chula Vista-Carlsbad, CA MSA',\n",
       " 'San Francisco-Oakland-Berkeley, CA MSA',\n",
       " 'San Jose-Sunnyvale-Santa Clara, CA MSA',\n",
       " 'Seattle-Tacoma-Bellevue, WA MSA',\n",
       " 'St. Louis, MO-IL MSA',\n",
       " 'Stockton, CA MSA',\n",
       " 'Tampa-St. Petersburg-Clearwater, FL MSA',\n",
       " 'Tucson, AZ MSA',\n",
       " 'Tulsa, OK MSA',\n",
       " 'Urban Honolulu, HI MSA',\n",
       " 'Virginia Beach-Norfolk-Newport News, VA-NC MSA',\n",
       " 'Washington-Arlington-Alexandria, DC-VA-MD-WV MSA']"
      ]
     },
     "execution_count": 10,
     "metadata": {},
     "output_type": "execute_result"
    }
   ],
   "source": [
    "sorted(user_data['city'].unique())"
   ]
  },
  {
   "cell_type": "markdown",
   "metadata": {},
   "source": [
    "Everything appears to check out here! Research has shown me that MSA is short for \"Metropolitan Statistical Area\" so I'm happy with the look of everything. Let's look at our plans next."
   ]
  },
  {
   "cell_type": "code",
   "execution_count": 11,
   "metadata": {},
   "outputs": [
    {
     "data": {
      "text/plain": [
       "array(['ultimate', 'surf'], dtype=object)"
      ]
     },
     "execution_count": 11,
     "metadata": {},
     "output_type": "execute_result"
    }
   ],
   "source": [
    "user_data['plan'].unique()"
   ]
  },
  {
   "cell_type": "markdown",
   "metadata": {},
   "source": [
    "Excellent. No issues here. Let's work on the reg_date and churn_date now."
   ]
  },
  {
   "cell_type": "code",
   "execution_count": 12,
   "metadata": {},
   "outputs": [],
   "source": [
    "user_data['reg_date'] = pd.to_datetime(user_data['reg_date'], format='%Y-%m-%d')\n",
    "user_data['churn_date'] = pd.to_datetime(user_data['churn_date'], format='%Y-%m-%d')"
   ]
  },
  {
   "cell_type": "code",
   "execution_count": 13,
   "metadata": {},
   "outputs": [
    {
     "name": "stdout",
     "output_type": "stream",
     "text": [
      "<class 'pandas.core.frame.DataFrame'>\n",
      "RangeIndex: 500 entries, 0 to 499\n",
      "Data columns (total 8 columns):\n",
      "user_id       500 non-null int64\n",
      "first_name    500 non-null object\n",
      "last_name     500 non-null object\n",
      "age           500 non-null int64\n",
      "city          500 non-null object\n",
      "reg_date      500 non-null datetime64[ns]\n",
      "plan          500 non-null object\n",
      "churn_date    34 non-null datetime64[ns]\n",
      "dtypes: datetime64[ns](2), int64(2), object(4)\n",
      "memory usage: 31.4+ KB\n"
     ]
    }
   ],
   "source": [
    "user_data.info()"
   ]
  },
  {
   "cell_type": "markdown",
   "metadata": {},
   "source": [
    "Great - we are almost done with this one. Last thing we need to check for is duplicate rows."
   ]
  },
  {
   "cell_type": "code",
   "execution_count": 14,
   "metadata": {},
   "outputs": [
    {
     "data": {
      "text/plain": [
       "0"
      ]
     },
     "execution_count": 14,
     "metadata": {},
     "output_type": "execute_result"
    }
   ],
   "source": [
    "user_data.duplicated().sum()"
   ]
  },
  {
   "cell_type": "markdown",
   "metadata": {},
   "source": [
    "Perfect - ok, we have gotten this dataset in shape. Let's move on to the next one."
   ]
  },
  {
   "cell_type": "markdown",
   "metadata": {},
   "source": [
    "### Call Data"
   ]
  },
  {
   "cell_type": "code",
   "execution_count": 15,
   "metadata": {},
   "outputs": [
    {
     "data": {
      "text/plain": [
       "id           0\n",
       "user_id      0\n",
       "call_date    0\n",
       "duration     0\n",
       "dtype: int64"
      ]
     },
     "execution_count": 15,
     "metadata": {},
     "output_type": "execute_result"
    }
   ],
   "source": [
    "call_data.isna().sum()"
   ]
  },
  {
   "cell_type": "code",
   "execution_count": 16,
   "metadata": {},
   "outputs": [
    {
     "data": {
      "text/plain": [
       "0"
      ]
     },
     "execution_count": 16,
     "metadata": {},
     "output_type": "execute_result"
    }
   ],
   "source": [
    "call_data.duplicated().sum()"
   ]
  },
  {
   "cell_type": "markdown",
   "metadata": {},
   "source": [
    "Ok great, no big issues to take care of. The only two things we need to do here are to change the call_date to date-time format and round the call duration up to the nearest minute, since this is how the telecom company charges users."
   ]
  },
  {
   "cell_type": "code",
   "execution_count": 17,
   "metadata": {},
   "outputs": [
    {
     "data": {
      "text/plain": [
       "id                   object\n",
       "user_id               int64\n",
       "call_date    datetime64[ns]\n",
       "duration              int64\n",
       "dtype: object"
      ]
     },
     "metadata": {},
     "output_type": "display_data"
    },
    {
     "data": {
      "text/html": [
       "<div>\n",
       "<style scoped>\n",
       "    .dataframe tbody tr th:only-of-type {\n",
       "        vertical-align: middle;\n",
       "    }\n",
       "\n",
       "    .dataframe tbody tr th {\n",
       "        vertical-align: top;\n",
       "    }\n",
       "\n",
       "    .dataframe thead th {\n",
       "        text-align: right;\n",
       "    }\n",
       "</style>\n",
       "<table border=\"1\" class=\"dataframe\">\n",
       "  <thead>\n",
       "    <tr style=\"text-align: right;\">\n",
       "      <th></th>\n",
       "      <th>id</th>\n",
       "      <th>user_id</th>\n",
       "      <th>call_date</th>\n",
       "      <th>duration</th>\n",
       "    </tr>\n",
       "  </thead>\n",
       "  <tbody>\n",
       "    <tr>\n",
       "      <td>0</td>\n",
       "      <td>1000_93</td>\n",
       "      <td>1000</td>\n",
       "      <td>2018-12-27</td>\n",
       "      <td>9</td>\n",
       "    </tr>\n",
       "    <tr>\n",
       "      <td>1</td>\n",
       "      <td>1000_145</td>\n",
       "      <td>1000</td>\n",
       "      <td>2018-12-27</td>\n",
       "      <td>14</td>\n",
       "    </tr>\n",
       "    <tr>\n",
       "      <td>2</td>\n",
       "      <td>1000_247</td>\n",
       "      <td>1000</td>\n",
       "      <td>2018-12-27</td>\n",
       "      <td>15</td>\n",
       "    </tr>\n",
       "    <tr>\n",
       "      <td>3</td>\n",
       "      <td>1000_309</td>\n",
       "      <td>1000</td>\n",
       "      <td>2018-12-28</td>\n",
       "      <td>6</td>\n",
       "    </tr>\n",
       "    <tr>\n",
       "      <td>4</td>\n",
       "      <td>1000_380</td>\n",
       "      <td>1000</td>\n",
       "      <td>2018-12-30</td>\n",
       "      <td>5</td>\n",
       "    </tr>\n",
       "  </tbody>\n",
       "</table>\n",
       "</div>"
      ],
      "text/plain": [
       "         id  user_id  call_date  duration\n",
       "0   1000_93     1000 2018-12-27         9\n",
       "1  1000_145     1000 2018-12-27        14\n",
       "2  1000_247     1000 2018-12-27        15\n",
       "3  1000_309     1000 2018-12-28         6\n",
       "4  1000_380     1000 2018-12-30         5"
      ]
     },
     "execution_count": 17,
     "metadata": {},
     "output_type": "execute_result"
    }
   ],
   "source": [
    "call_data['call_date'] = pd.to_datetime(call_data['call_date'], format='%Y-%m-%d')\n",
    "call_data['duration'] = call_data['duration'].apply(np.ceil).astype('int')\n",
    "\n",
    "# verify\n",
    "display(call_data.dtypes)\n",
    "call_data.head()"
   ]
  },
  {
   "cell_type": "markdown",
   "metadata": {},
   "source": [
    "I think at this point we've done all we can for this dataset. The datatypes appear correct, and there are no nulls or duplicates we need to address. Let's move on."
   ]
  },
  {
   "cell_type": "markdown",
   "metadata": {},
   "source": [
    "### Internet Data"
   ]
  },
  {
   "cell_type": "code",
   "execution_count": 18,
   "metadata": {},
   "outputs": [
    {
     "data": {
      "text/plain": [
       "id              0\n",
       "user_id         0\n",
       "session_date    0\n",
       "mb_used         0\n",
       "dtype: int64"
      ]
     },
     "execution_count": 18,
     "metadata": {},
     "output_type": "execute_result"
    }
   ],
   "source": [
    "internet_data.isna().sum()"
   ]
  },
  {
   "cell_type": "code",
   "execution_count": 19,
   "metadata": {},
   "outputs": [
    {
     "data": {
      "text/plain": [
       "0"
      ]
     },
     "execution_count": 19,
     "metadata": {},
     "output_type": "execute_result"
    }
   ],
   "source": [
    "internet_data.duplicated().sum()"
   ]
  },
  {
   "cell_type": "markdown",
   "metadata": {},
   "source": [
    "Ok, so like the above dataset there is nothing critical we need to address here in terms of duplicates or nulls. But we do need to fix the session date and convert it to date-time format. This will be especially critical here when we need to calculate the total amount of data used, as it is charged by the GB over the alloted amount. We will need to round up the sum total for each month to determine what to charge (if anything)."
   ]
  },
  {
   "cell_type": "code",
   "execution_count": 20,
   "metadata": {},
   "outputs": [
    {
     "data": {
      "text/plain": [
       "id                      object\n",
       "user_id                  int64\n",
       "session_date    datetime64[ns]\n",
       "mb_used                float64\n",
       "dtype: object"
      ]
     },
     "execution_count": 20,
     "metadata": {},
     "output_type": "execute_result"
    }
   ],
   "source": [
    "internet_data['session_date'] = pd.to_datetime(internet_data['session_date'], format='%Y-%m-%d')\n",
    "\n",
    "# verify\n",
    "internet_data.dtypes"
   ]
  },
  {
   "cell_type": "markdown",
   "metadata": {},
   "source": [
    "Alright, I think that's all we can do for now. We'll come back to this dataset after we examine the last one to group the MB usage per user per month."
   ]
  },
  {
   "cell_type": "markdown",
   "metadata": {},
   "source": [
    "### Message Data"
   ]
  },
  {
   "cell_type": "code",
   "execution_count": 21,
   "metadata": {},
   "outputs": [
    {
     "data": {
      "text/plain": [
       "id              0\n",
       "user_id         0\n",
       "message_date    0\n",
       "dtype: int64"
      ]
     },
     "execution_count": 21,
     "metadata": {},
     "output_type": "execute_result"
    }
   ],
   "source": [
    "message_data.isna().sum()"
   ]
  },
  {
   "cell_type": "code",
   "execution_count": 22,
   "metadata": {},
   "outputs": [
    {
     "data": {
      "text/plain": [
       "0"
      ]
     },
     "execution_count": 22,
     "metadata": {},
     "output_type": "execute_result"
    }
   ],
   "source": [
    "message_data.duplicated().sum()"
   ]
  },
  {
   "cell_type": "markdown",
   "metadata": {},
   "source": [
    "Great - overall we have some fairly clean datasets. There have been no problematic nulls or duplicates to deal with! However, we need to do the same dtype conversion here as we have above to make summing the messages by month easier."
   ]
  },
  {
   "cell_type": "code",
   "execution_count": 23,
   "metadata": {},
   "outputs": [
    {
     "data": {
      "text/plain": [
       "id                      object\n",
       "user_id                  int64\n",
       "message_date    datetime64[ns]\n",
       "dtype: object"
      ]
     },
     "execution_count": 23,
     "metadata": {},
     "output_type": "execute_result"
    }
   ],
   "source": [
    "message_data['message_date'] = pd.to_datetime(message_data['message_date'], format='%Y-%m-%d')\n",
    "\n",
    "# verify\n",
    "message_data.dtypes"
   ]
  },
  {
   "cell_type": "markdown",
   "metadata": {},
   "source": [
    "Everything appears fine here as well. Now that all of our datasets have been examined and fixed, let's start to pull some base values from them. \n",
    "\n",
    "In the next section, we will use groupby and pivot tables to determine:\n",
    "* The number of calls made and minutes used per month\n",
    "* The number of text messages sent per month\n",
    "* The volume of data per month\n",
    "* The monthly revenue from each user (any revenue gained from overage charges)"
   ]
  },
  {
   "cell_type": "markdown",
   "metadata": {},
   "source": [
    "## Data Analysis"
   ]
  },
  {
   "cell_type": "markdown",
   "metadata": {},
   "source": [
    "First, let's search to find the total number of calls made and minutes used per month for each user. To do this, we should examine the call_data df to find these values and group them by user. Then we can do the same for the number of text messages and volume of data in their respective dfs. After we have these three sets of values, we can join those users to the user_data df to figure out which plan they have. This last step will allow us to determine the monthly revenue gained from any overages in messages, calls, or data."
   ]
  },
  {
   "cell_type": "code",
   "execution_count": 24,
   "metadata": {},
   "outputs": [
    {
     "data": {
      "text/html": [
       "<div>\n",
       "<style scoped>\n",
       "    .dataframe tbody tr th:only-of-type {\n",
       "        vertical-align: middle;\n",
       "    }\n",
       "\n",
       "    .dataframe tbody tr th {\n",
       "        vertical-align: top;\n",
       "    }\n",
       "\n",
       "    .dataframe thead tr th {\n",
       "        text-align: left;\n",
       "    }\n",
       "\n",
       "    .dataframe thead tr:last-of-type th {\n",
       "        text-align: right;\n",
       "    }\n",
       "</style>\n",
       "<table border=\"1\" class=\"dataframe\">\n",
       "  <thead>\n",
       "    <tr>\n",
       "      <th></th>\n",
       "      <th></th>\n",
       "      <th>sum</th>\n",
       "      <th>count</th>\n",
       "    </tr>\n",
       "    <tr>\n",
       "      <th></th>\n",
       "      <th></th>\n",
       "      <th>duration</th>\n",
       "      <th>duration</th>\n",
       "    </tr>\n",
       "    <tr>\n",
       "      <th>user_id</th>\n",
       "      <th>month</th>\n",
       "      <th></th>\n",
       "      <th></th>\n",
       "    </tr>\n",
       "  </thead>\n",
       "  <tbody>\n",
       "    <tr>\n",
       "      <td>1000</td>\n",
       "      <td>12</td>\n",
       "      <td>124</td>\n",
       "      <td>16</td>\n",
       "    </tr>\n",
       "    <tr>\n",
       "      <td rowspan=\"5\" valign=\"top\">1001</td>\n",
       "      <td>8</td>\n",
       "      <td>182</td>\n",
       "      <td>27</td>\n",
       "    </tr>\n",
       "    <tr>\n",
       "      <td>9</td>\n",
       "      <td>315</td>\n",
       "      <td>49</td>\n",
       "    </tr>\n",
       "    <tr>\n",
       "      <td>10</td>\n",
       "      <td>393</td>\n",
       "      <td>65</td>\n",
       "    </tr>\n",
       "    <tr>\n",
       "      <td>11</td>\n",
       "      <td>426</td>\n",
       "      <td>64</td>\n",
       "    </tr>\n",
       "    <tr>\n",
       "      <td>12</td>\n",
       "      <td>412</td>\n",
       "      <td>56</td>\n",
       "    </tr>\n",
       "    <tr>\n",
       "      <td rowspan=\"3\" valign=\"top\">1002</td>\n",
       "      <td>10</td>\n",
       "      <td>59</td>\n",
       "      <td>11</td>\n",
       "    </tr>\n",
       "    <tr>\n",
       "      <td>11</td>\n",
       "      <td>386</td>\n",
       "      <td>55</td>\n",
       "    </tr>\n",
       "    <tr>\n",
       "      <td>12</td>\n",
       "      <td>384</td>\n",
       "      <td>47</td>\n",
       "    </tr>\n",
       "    <tr>\n",
       "      <td>1003</td>\n",
       "      <td>12</td>\n",
       "      <td>1104</td>\n",
       "      <td>149</td>\n",
       "    </tr>\n",
       "  </tbody>\n",
       "</table>\n",
       "</div>"
      ],
      "text/plain": [
       "                   sum    count\n",
       "              duration duration\n",
       "user_id month                  \n",
       "1000    12         124       16\n",
       "1001    8          182       27\n",
       "        9          315       49\n",
       "        10         393       65\n",
       "        11         426       64\n",
       "        12         412       56\n",
       "1002    10          59       11\n",
       "        11         386       55\n",
       "        12         384       47\n",
       "1003    12        1104      149"
      ]
     },
     "execution_count": 24,
     "metadata": {},
     "output_type": "execute_result"
    }
   ],
   "source": [
    "# We'll need a new column first\n",
    "call_data['month'] = pd.DatetimeIndex(call_data['call_date']).month\n",
    "\n",
    "# Then we can group and see the results\n",
    "calls_made = pd.pivot_table(\n",
    "    call_data,\n",
    "    values='duration',\n",
    "    index=['user_id', 'month'],\n",
    "    aggfunc=['sum', 'count']\n",
    ")\n",
    "calls_made.head(10)"
   ]
  },
  {
   "cell_type": "markdown",
   "metadata": {},
   "source": [
    "First table down - now we need to set up a similar table for the messages and internet data. "
   ]
  },
  {
   "cell_type": "code",
   "execution_count": 25,
   "metadata": {},
   "outputs": [
    {
     "data": {
      "text/html": [
       "<div>\n",
       "<style scoped>\n",
       "    .dataframe tbody tr th:only-of-type {\n",
       "        vertical-align: middle;\n",
       "    }\n",
       "\n",
       "    .dataframe tbody tr th {\n",
       "        vertical-align: top;\n",
       "    }\n",
       "\n",
       "    .dataframe thead th {\n",
       "        text-align: right;\n",
       "    }\n",
       "</style>\n",
       "<table border=\"1\" class=\"dataframe\">\n",
       "  <thead>\n",
       "    <tr style=\"text-align: right;\">\n",
       "      <th></th>\n",
       "      <th></th>\n",
       "      <th>id</th>\n",
       "    </tr>\n",
       "    <tr>\n",
       "      <th>user_id</th>\n",
       "      <th>month</th>\n",
       "      <th></th>\n",
       "    </tr>\n",
       "  </thead>\n",
       "  <tbody>\n",
       "    <tr>\n",
       "      <td>1000</td>\n",
       "      <td>12</td>\n",
       "      <td>11</td>\n",
       "    </tr>\n",
       "    <tr>\n",
       "      <td rowspan=\"5\" valign=\"top\">1001</td>\n",
       "      <td>8</td>\n",
       "      <td>30</td>\n",
       "    </tr>\n",
       "    <tr>\n",
       "      <td>9</td>\n",
       "      <td>44</td>\n",
       "    </tr>\n",
       "    <tr>\n",
       "      <td>10</td>\n",
       "      <td>53</td>\n",
       "    </tr>\n",
       "    <tr>\n",
       "      <td>11</td>\n",
       "      <td>36</td>\n",
       "    </tr>\n",
       "    <tr>\n",
       "      <td>12</td>\n",
       "      <td>44</td>\n",
       "    </tr>\n",
       "    <tr>\n",
       "      <td rowspan=\"3\" valign=\"top\">1002</td>\n",
       "      <td>10</td>\n",
       "      <td>15</td>\n",
       "    </tr>\n",
       "    <tr>\n",
       "      <td>11</td>\n",
       "      <td>32</td>\n",
       "    </tr>\n",
       "    <tr>\n",
       "      <td>12</td>\n",
       "      <td>41</td>\n",
       "    </tr>\n",
       "    <tr>\n",
       "      <td>1003</td>\n",
       "      <td>12</td>\n",
       "      <td>50</td>\n",
       "    </tr>\n",
       "  </tbody>\n",
       "</table>\n",
       "</div>"
      ],
      "text/plain": [
       "               id\n",
       "user_id month    \n",
       "1000    12     11\n",
       "1001    8      30\n",
       "        9      44\n",
       "        10     53\n",
       "        11     36\n",
       "        12     44\n",
       "1002    10     15\n",
       "        11     32\n",
       "        12     41\n",
       "1003    12     50"
      ]
     },
     "execution_count": 25,
     "metadata": {},
     "output_type": "execute_result"
    }
   ],
   "source": [
    "message_data['month'] = pd.DatetimeIndex(message_data['message_date']).month\n",
    "\n",
    "messages_sent = pd.pivot_table(\n",
    "    message_data,\n",
    "    values='id',\n",
    "    index=['user_id', 'month'],\n",
    "    aggfunc='count'\n",
    ")\n",
    "messages_sent.head(10)"
   ]
  },
  {
   "cell_type": "code",
   "execution_count": 26,
   "metadata": {},
   "outputs": [
    {
     "data": {
      "text/html": [
       "<div>\n",
       "<style scoped>\n",
       "    .dataframe tbody tr th:only-of-type {\n",
       "        vertical-align: middle;\n",
       "    }\n",
       "\n",
       "    .dataframe tbody tr th {\n",
       "        vertical-align: top;\n",
       "    }\n",
       "\n",
       "    .dataframe thead th {\n",
       "        text-align: right;\n",
       "    }\n",
       "</style>\n",
       "<table border=\"1\" class=\"dataframe\">\n",
       "  <thead>\n",
       "    <tr style=\"text-align: right;\">\n",
       "      <th></th>\n",
       "      <th></th>\n",
       "      <th>mb_used</th>\n",
       "    </tr>\n",
       "    <tr>\n",
       "      <th>user_id</th>\n",
       "      <th>month</th>\n",
       "      <th></th>\n",
       "    </tr>\n",
       "  </thead>\n",
       "  <tbody>\n",
       "    <tr>\n",
       "      <td>1000</td>\n",
       "      <td>12</td>\n",
       "      <td>1901.47</td>\n",
       "    </tr>\n",
       "    <tr>\n",
       "      <td rowspan=\"5\" valign=\"top\">1001</td>\n",
       "      <td>8</td>\n",
       "      <td>6919.15</td>\n",
       "    </tr>\n",
       "    <tr>\n",
       "      <td>9</td>\n",
       "      <td>13314.82</td>\n",
       "    </tr>\n",
       "    <tr>\n",
       "      <td>10</td>\n",
       "      <td>22330.49</td>\n",
       "    </tr>\n",
       "    <tr>\n",
       "      <td>11</td>\n",
       "      <td>18504.30</td>\n",
       "    </tr>\n",
       "    <tr>\n",
       "      <td>12</td>\n",
       "      <td>19369.18</td>\n",
       "    </tr>\n",
       "    <tr>\n",
       "      <td rowspan=\"3\" valign=\"top\">1002</td>\n",
       "      <td>10</td>\n",
       "      <td>6552.01</td>\n",
       "    </tr>\n",
       "    <tr>\n",
       "      <td>11</td>\n",
       "      <td>19345.08</td>\n",
       "    </tr>\n",
       "    <tr>\n",
       "      <td>12</td>\n",
       "      <td>14396.24</td>\n",
       "    </tr>\n",
       "    <tr>\n",
       "      <td>1003</td>\n",
       "      <td>12</td>\n",
       "      <td>27044.14</td>\n",
       "    </tr>\n",
       "  </tbody>\n",
       "</table>\n",
       "</div>"
      ],
      "text/plain": [
       "                mb_used\n",
       "user_id month          \n",
       "1000    12      1901.47\n",
       "1001    8       6919.15\n",
       "        9      13314.82\n",
       "        10     22330.49\n",
       "        11     18504.30\n",
       "        12     19369.18\n",
       "1002    10      6552.01\n",
       "        11     19345.08\n",
       "        12     14396.24\n",
       "1003    12     27044.14"
      ]
     },
     "execution_count": 26,
     "metadata": {},
     "output_type": "execute_result"
    }
   ],
   "source": [
    "internet_data['month'] = pd.DatetimeIndex(internet_data['session_date']).month\n",
    "\n",
    "data_used = pd.pivot_table(\n",
    "    internet_data,\n",
    "    values='mb_used',\n",
    "    index=['user_id', 'month'],\n",
    "    aggfunc='sum'\n",
    ")\n",
    "data_used.head(10)"
   ]
  },
  {
   "cell_type": "markdown",
   "metadata": {},
   "source": [
    "For the internet data, we will also need to create one more column containing the total GB used per month, rounded up. This is how the telecom company charges for overage data, so we will need this metric to determine any additional charges to the user."
   ]
  },
  {
   "cell_type": "code",
   "execution_count": 27,
   "metadata": {},
   "outputs": [],
   "source": [
    "data_used['gb_rounded'] = (data_used['mb_used']/1024).apply(np.ceil)"
   ]
  },
  {
   "cell_type": "markdown",
   "metadata": {},
   "source": [
    "Now that we have the full usage of each user per month pulled out into these pivot tables, we can assemble them into one dataset. This df will help us determine how much revenue the telecom company earns for any overage charges, and ultimately to determine which of the two plans generates more profit."
   ]
  },
  {
   "cell_type": "code",
   "execution_count": 28,
   "metadata": {},
   "outputs": [
    {
     "data": {
      "text/html": [
       "<div>\n",
       "<style scoped>\n",
       "    .dataframe tbody tr th:only-of-type {\n",
       "        vertical-align: middle;\n",
       "    }\n",
       "\n",
       "    .dataframe tbody tr th {\n",
       "        vertical-align: top;\n",
       "    }\n",
       "\n",
       "    .dataframe thead th {\n",
       "        text-align: right;\n",
       "    }\n",
       "</style>\n",
       "<table border=\"1\" class=\"dataframe\">\n",
       "  <thead>\n",
       "    <tr style=\"text-align: right;\">\n",
       "      <th></th>\n",
       "      <th></th>\n",
       "      <th>(sum, duration)</th>\n",
       "      <th>(count, duration)</th>\n",
       "      <th>id</th>\n",
       "      <th>mb_used</th>\n",
       "      <th>gb_rounded</th>\n",
       "    </tr>\n",
       "    <tr>\n",
       "      <th>user_id</th>\n",
       "      <th>month</th>\n",
       "      <th></th>\n",
       "      <th></th>\n",
       "      <th></th>\n",
       "      <th></th>\n",
       "      <th></th>\n",
       "    </tr>\n",
       "  </thead>\n",
       "  <tbody>\n",
       "    <tr>\n",
       "      <td>1000</td>\n",
       "      <td>12</td>\n",
       "      <td>124.0</td>\n",
       "      <td>16.0</td>\n",
       "      <td>11.0</td>\n",
       "      <td>1901.47</td>\n",
       "      <td>2.0</td>\n",
       "    </tr>\n",
       "    <tr>\n",
       "      <td rowspan=\"5\" valign=\"top\">1001</td>\n",
       "      <td>8</td>\n",
       "      <td>182.0</td>\n",
       "      <td>27.0</td>\n",
       "      <td>30.0</td>\n",
       "      <td>6919.15</td>\n",
       "      <td>7.0</td>\n",
       "    </tr>\n",
       "    <tr>\n",
       "      <td>9</td>\n",
       "      <td>315.0</td>\n",
       "      <td>49.0</td>\n",
       "      <td>44.0</td>\n",
       "      <td>13314.82</td>\n",
       "      <td>14.0</td>\n",
       "    </tr>\n",
       "    <tr>\n",
       "      <td>10</td>\n",
       "      <td>393.0</td>\n",
       "      <td>65.0</td>\n",
       "      <td>53.0</td>\n",
       "      <td>22330.49</td>\n",
       "      <td>22.0</td>\n",
       "    </tr>\n",
       "    <tr>\n",
       "      <td>11</td>\n",
       "      <td>426.0</td>\n",
       "      <td>64.0</td>\n",
       "      <td>36.0</td>\n",
       "      <td>18504.30</td>\n",
       "      <td>19.0</td>\n",
       "    </tr>\n",
       "    <tr>\n",
       "      <td>12</td>\n",
       "      <td>412.0</td>\n",
       "      <td>56.0</td>\n",
       "      <td>44.0</td>\n",
       "      <td>19369.18</td>\n",
       "      <td>19.0</td>\n",
       "    </tr>\n",
       "    <tr>\n",
       "      <td rowspan=\"3\" valign=\"top\">1002</td>\n",
       "      <td>10</td>\n",
       "      <td>59.0</td>\n",
       "      <td>11.0</td>\n",
       "      <td>15.0</td>\n",
       "      <td>6552.01</td>\n",
       "      <td>7.0</td>\n",
       "    </tr>\n",
       "    <tr>\n",
       "      <td>11</td>\n",
       "      <td>386.0</td>\n",
       "      <td>55.0</td>\n",
       "      <td>32.0</td>\n",
       "      <td>19345.08</td>\n",
       "      <td>19.0</td>\n",
       "    </tr>\n",
       "    <tr>\n",
       "      <td>12</td>\n",
       "      <td>384.0</td>\n",
       "      <td>47.0</td>\n",
       "      <td>41.0</td>\n",
       "      <td>14396.24</td>\n",
       "      <td>15.0</td>\n",
       "    </tr>\n",
       "    <tr>\n",
       "      <td>1003</td>\n",
       "      <td>12</td>\n",
       "      <td>1104.0</td>\n",
       "      <td>149.0</td>\n",
       "      <td>50.0</td>\n",
       "      <td>27044.14</td>\n",
       "      <td>27.0</td>\n",
       "    </tr>\n",
       "  </tbody>\n",
       "</table>\n",
       "</div>"
      ],
      "text/plain": [
       "               (sum, duration)  (count, duration)    id   mb_used  gb_rounded\n",
       "user_id month                                                                \n",
       "1000    12               124.0               16.0  11.0   1901.47         2.0\n",
       "1001    8                182.0               27.0  30.0   6919.15         7.0\n",
       "        9                315.0               49.0  44.0  13314.82        14.0\n",
       "        10               393.0               65.0  53.0  22330.49        22.0\n",
       "        11               426.0               64.0  36.0  18504.30        19.0\n",
       "        12               412.0               56.0  44.0  19369.18        19.0\n",
       "1002    10                59.0               11.0  15.0   6552.01         7.0\n",
       "        11               386.0               55.0  32.0  19345.08        19.0\n",
       "        12               384.0               47.0  41.0  14396.24        15.0\n",
       "1003    12              1104.0              149.0  50.0  27044.14        27.0"
      ]
     },
     "execution_count": 28,
     "metadata": {},
     "output_type": "execute_result"
    }
   ],
   "source": [
    "dfs = [calls_made, messages_sent, data_used]\n",
    "usage_data = pd.concat(dfs, axis=1)\n",
    "    \n",
    "usage_data.head(10)"
   ]
  },
  {
   "cell_type": "code",
   "execution_count": 29,
   "metadata": {},
   "outputs": [],
   "source": [
    "# Rename columns to make it easier to use\n",
    "usage_data = usage_data.rename(columns={\n",
    "    ('sum', 'duration'):'minutes_total',\n",
    "    ('count', 'duration'):'call_number_total',\n",
    "    'id':'text_total',\n",
    "})"
   ]
  },
  {
   "cell_type": "code",
   "execution_count": 30,
   "metadata": {},
   "outputs": [
    {
     "data": {
      "text/html": [
       "<div>\n",
       "<style scoped>\n",
       "    .dataframe tbody tr th:only-of-type {\n",
       "        vertical-align: middle;\n",
       "    }\n",
       "\n",
       "    .dataframe tbody tr th {\n",
       "        vertical-align: top;\n",
       "    }\n",
       "\n",
       "    .dataframe thead th {\n",
       "        text-align: right;\n",
       "    }\n",
       "</style>\n",
       "<table border=\"1\" class=\"dataframe\">\n",
       "  <thead>\n",
       "    <tr style=\"text-align: right;\">\n",
       "      <th></th>\n",
       "      <th></th>\n",
       "      <th>minutes_total</th>\n",
       "      <th>call_number_total</th>\n",
       "      <th>text_total</th>\n",
       "      <th>mb_used</th>\n",
       "      <th>gb_rounded</th>\n",
       "    </tr>\n",
       "    <tr>\n",
       "      <th>user_id</th>\n",
       "      <th>month</th>\n",
       "      <th></th>\n",
       "      <th></th>\n",
       "      <th></th>\n",
       "      <th></th>\n",
       "      <th></th>\n",
       "    </tr>\n",
       "  </thead>\n",
       "  <tbody>\n",
       "    <tr>\n",
       "      <td>1000</td>\n",
       "      <td>12</td>\n",
       "      <td>124.0</td>\n",
       "      <td>16.0</td>\n",
       "      <td>11.0</td>\n",
       "      <td>1901.47</td>\n",
       "      <td>2.0</td>\n",
       "    </tr>\n",
       "    <tr>\n",
       "      <td rowspan=\"5\" valign=\"top\">1001</td>\n",
       "      <td>8</td>\n",
       "      <td>182.0</td>\n",
       "      <td>27.0</td>\n",
       "      <td>30.0</td>\n",
       "      <td>6919.15</td>\n",
       "      <td>7.0</td>\n",
       "    </tr>\n",
       "    <tr>\n",
       "      <td>9</td>\n",
       "      <td>315.0</td>\n",
       "      <td>49.0</td>\n",
       "      <td>44.0</td>\n",
       "      <td>13314.82</td>\n",
       "      <td>14.0</td>\n",
       "    </tr>\n",
       "    <tr>\n",
       "      <td>10</td>\n",
       "      <td>393.0</td>\n",
       "      <td>65.0</td>\n",
       "      <td>53.0</td>\n",
       "      <td>22330.49</td>\n",
       "      <td>22.0</td>\n",
       "    </tr>\n",
       "    <tr>\n",
       "      <td>11</td>\n",
       "      <td>426.0</td>\n",
       "      <td>64.0</td>\n",
       "      <td>36.0</td>\n",
       "      <td>18504.30</td>\n",
       "      <td>19.0</td>\n",
       "    </tr>\n",
       "    <tr>\n",
       "      <td>12</td>\n",
       "      <td>412.0</td>\n",
       "      <td>56.0</td>\n",
       "      <td>44.0</td>\n",
       "      <td>19369.18</td>\n",
       "      <td>19.0</td>\n",
       "    </tr>\n",
       "    <tr>\n",
       "      <td rowspan=\"3\" valign=\"top\">1002</td>\n",
       "      <td>10</td>\n",
       "      <td>59.0</td>\n",
       "      <td>11.0</td>\n",
       "      <td>15.0</td>\n",
       "      <td>6552.01</td>\n",
       "      <td>7.0</td>\n",
       "    </tr>\n",
       "    <tr>\n",
       "      <td>11</td>\n",
       "      <td>386.0</td>\n",
       "      <td>55.0</td>\n",
       "      <td>32.0</td>\n",
       "      <td>19345.08</td>\n",
       "      <td>19.0</td>\n",
       "    </tr>\n",
       "    <tr>\n",
       "      <td>12</td>\n",
       "      <td>384.0</td>\n",
       "      <td>47.0</td>\n",
       "      <td>41.0</td>\n",
       "      <td>14396.24</td>\n",
       "      <td>15.0</td>\n",
       "    </tr>\n",
       "    <tr>\n",
       "      <td>1003</td>\n",
       "      <td>12</td>\n",
       "      <td>1104.0</td>\n",
       "      <td>149.0</td>\n",
       "      <td>50.0</td>\n",
       "      <td>27044.14</td>\n",
       "      <td>27.0</td>\n",
       "    </tr>\n",
       "  </tbody>\n",
       "</table>\n",
       "</div>"
      ],
      "text/plain": [
       "               minutes_total  call_number_total  text_total   mb_used  \\\n",
       "user_id month                                                           \n",
       "1000    12             124.0               16.0        11.0   1901.47   \n",
       "1001    8              182.0               27.0        30.0   6919.15   \n",
       "        9              315.0               49.0        44.0  13314.82   \n",
       "        10             393.0               65.0        53.0  22330.49   \n",
       "        11             426.0               64.0        36.0  18504.30   \n",
       "        12             412.0               56.0        44.0  19369.18   \n",
       "1002    10              59.0               11.0        15.0   6552.01   \n",
       "        11             386.0               55.0        32.0  19345.08   \n",
       "        12             384.0               47.0        41.0  14396.24   \n",
       "1003    12            1104.0              149.0        50.0  27044.14   \n",
       "\n",
       "               gb_rounded  \n",
       "user_id month              \n",
       "1000    12            2.0  \n",
       "1001    8             7.0  \n",
       "        9            14.0  \n",
       "        10           22.0  \n",
       "        11           19.0  \n",
       "        12           19.0  \n",
       "1002    10            7.0  \n",
       "        11           19.0  \n",
       "        12           15.0  \n",
       "1003    12           27.0  "
      ]
     },
     "execution_count": 30,
     "metadata": {},
     "output_type": "execute_result"
    }
   ],
   "source": [
    "usage_data.head(10)"
   ]
  },
  {
   "cell_type": "markdown",
   "metadata": {},
   "source": [
    "We will need to merge the user plan type into this dataframe in order to analyze how much revenue we earn. We have this information linked to the user_id in our first dataset (user_data). Let's pull these columns along with the city (for later) out into their own df and then merge this into the usage_data to get it all in one place."
   ]
  },
  {
   "cell_type": "code",
   "execution_count": 31,
   "metadata": {},
   "outputs": [],
   "source": [
    "user_plans = user_data[['user_id', 'city', 'plan']]"
   ]
  },
  {
   "cell_type": "code",
   "execution_count": 32,
   "metadata": {},
   "outputs": [],
   "source": [
    "usage_data_plans = pd.merge(usage_data, user_plans, left_index=True, on='user_id', how='left')"
   ]
  },
  {
   "cell_type": "code",
   "execution_count": 33,
   "metadata": {},
   "outputs": [
    {
     "data": {
      "text/html": [
       "<div>\n",
       "<style scoped>\n",
       "    .dataframe tbody tr th:only-of-type {\n",
       "        vertical-align: middle;\n",
       "    }\n",
       "\n",
       "    .dataframe tbody tr th {\n",
       "        vertical-align: top;\n",
       "    }\n",
       "\n",
       "    .dataframe thead th {\n",
       "        text-align: right;\n",
       "    }\n",
       "</style>\n",
       "<table border=\"1\" class=\"dataframe\">\n",
       "  <thead>\n",
       "    <tr style=\"text-align: right;\">\n",
       "      <th></th>\n",
       "      <th>user_id</th>\n",
       "      <th>minutes_total</th>\n",
       "      <th>call_number_total</th>\n",
       "      <th>text_total</th>\n",
       "      <th>mb_used</th>\n",
       "      <th>gb_rounded</th>\n",
       "      <th>city</th>\n",
       "      <th>plan</th>\n",
       "    </tr>\n",
       "  </thead>\n",
       "  <tbody>\n",
       "    <tr>\n",
       "      <td>0</td>\n",
       "      <td>1000</td>\n",
       "      <td>124.0</td>\n",
       "      <td>16.0</td>\n",
       "      <td>11.0</td>\n",
       "      <td>1901.47</td>\n",
       "      <td>2.0</td>\n",
       "      <td>Atlanta-Sandy Springs-Roswell, GA MSA</td>\n",
       "      <td>ultimate</td>\n",
       "    </tr>\n",
       "    <tr>\n",
       "      <td>1</td>\n",
       "      <td>1001</td>\n",
       "      <td>182.0</td>\n",
       "      <td>27.0</td>\n",
       "      <td>30.0</td>\n",
       "      <td>6919.15</td>\n",
       "      <td>7.0</td>\n",
       "      <td>Seattle-Tacoma-Bellevue, WA MSA</td>\n",
       "      <td>surf</td>\n",
       "    </tr>\n",
       "    <tr>\n",
       "      <td>1</td>\n",
       "      <td>1001</td>\n",
       "      <td>315.0</td>\n",
       "      <td>49.0</td>\n",
       "      <td>44.0</td>\n",
       "      <td>13314.82</td>\n",
       "      <td>14.0</td>\n",
       "      <td>Seattle-Tacoma-Bellevue, WA MSA</td>\n",
       "      <td>surf</td>\n",
       "    </tr>\n",
       "    <tr>\n",
       "      <td>1</td>\n",
       "      <td>1001</td>\n",
       "      <td>393.0</td>\n",
       "      <td>65.0</td>\n",
       "      <td>53.0</td>\n",
       "      <td>22330.49</td>\n",
       "      <td>22.0</td>\n",
       "      <td>Seattle-Tacoma-Bellevue, WA MSA</td>\n",
       "      <td>surf</td>\n",
       "    </tr>\n",
       "    <tr>\n",
       "      <td>1</td>\n",
       "      <td>1001</td>\n",
       "      <td>426.0</td>\n",
       "      <td>64.0</td>\n",
       "      <td>36.0</td>\n",
       "      <td>18504.30</td>\n",
       "      <td>19.0</td>\n",
       "      <td>Seattle-Tacoma-Bellevue, WA MSA</td>\n",
       "      <td>surf</td>\n",
       "    </tr>\n",
       "  </tbody>\n",
       "</table>\n",
       "</div>"
      ],
      "text/plain": [
       "   user_id  minutes_total  call_number_total  text_total   mb_used  \\\n",
       "0     1000          124.0               16.0        11.0   1901.47   \n",
       "1     1001          182.0               27.0        30.0   6919.15   \n",
       "1     1001          315.0               49.0        44.0  13314.82   \n",
       "1     1001          393.0               65.0        53.0  22330.49   \n",
       "1     1001          426.0               64.0        36.0  18504.30   \n",
       "\n",
       "   gb_rounded                                   city      plan  \n",
       "0         2.0  Atlanta-Sandy Springs-Roswell, GA MSA  ultimate  \n",
       "1         7.0        Seattle-Tacoma-Bellevue, WA MSA      surf  \n",
       "1        14.0        Seattle-Tacoma-Bellevue, WA MSA      surf  \n",
       "1        22.0        Seattle-Tacoma-Bellevue, WA MSA      surf  \n",
       "1        19.0        Seattle-Tacoma-Bellevue, WA MSA      surf  "
      ]
     },
     "execution_count": 33,
     "metadata": {},
     "output_type": "execute_result"
    }
   ],
   "source": [
    "usage_data_plans.head()"
   ]
  },
  {
   "cell_type": "code",
   "execution_count": 34,
   "metadata": {},
   "outputs": [
    {
     "data": {
      "text/plain": [
       "(2293, 5)"
      ]
     },
     "metadata": {},
     "output_type": "display_data"
    },
    {
     "data": {
      "text/plain": [
       "(500, 3)"
      ]
     },
     "metadata": {},
     "output_type": "display_data"
    },
    {
     "data": {
      "text/plain": [
       "(2293, 8)"
      ]
     },
     "execution_count": 34,
     "metadata": {},
     "output_type": "execute_result"
    }
   ],
   "source": [
    "display(usage_data.shape)\n",
    "display(user_plans.shape)\n",
    "usage_data_plans.shape"
   ]
  },
  {
   "cell_type": "markdown",
   "metadata": {},
   "source": [
    "Checking on the shapes of each df before and after the merge, we can see that three columns were added and the number of rows before and after are the same (for the left df). Now that we have everything grouped together, it's time to calculate how much revenue we earn from each customer."
   ]
  },
  {
   "cell_type": "code",
   "execution_count": 35,
   "metadata": {},
   "outputs": [],
   "source": [
    "def calculate_revenue(row):\n",
    "    \"\"\"\n",
    "    Calculates the total revenue earned from a customer depending on the plan they have, on top of the monthly cost of the plan.\n",
    "    \"\"\"\n",
    "    if row['plan'] == 'surf':\n",
    "        surf_mins_money = 0\n",
    "        surf_text_money = 0\n",
    "        surf_data_money = 0\n",
    "        surf_mins_used = row['minutes_total'] - 500\n",
    "        if surf_mins_used > 0:\n",
    "            surf_mins_money = surf_mins_used*0.03\n",
    "        surf_text_used = row['text_total'] - 50\n",
    "        if surf_text_used > 0:\n",
    "            surf_text_money = surf_text_used*0.03\n",
    "        surf_data_used = row['gb_rounded'] - 15\n",
    "        if surf_data_used > 0:\n",
    "            surf_data_money = surf_data_used*10\n",
    "        surf_revenue = surf_mins_money + surf_text_money + surf_data_money + 20\n",
    "        return surf_revenue\n",
    "    else:\n",
    "        ult_mins_money = 0\n",
    "        ult_text_money = 0\n",
    "        ult_data_money = 0\n",
    "        ult_mins_used = row['minutes_total'] - 3000\n",
    "        if ult_mins_used > 0:\n",
    "            ult_mins_money = ult_mins_used*0.01\n",
    "        ult_text_used = row['text_total'] - 1000\n",
    "        if ult_text_used > 0:\n",
    "            ult_text_money = ult_text_used*0.01\n",
    "        ult_data_used = row['gb_rounded'] - 30\n",
    "        if ult_data_used > 0:\n",
    "            ult_data_money = ult_data_used*7\n",
    "        ult_revenue = ult_mins_money + ult_text_money + ult_data_money + 70\n",
    "        return ult_revenue"
   ]
  },
  {
   "cell_type": "code",
   "execution_count": 36,
   "metadata": {},
   "outputs": [],
   "source": [
    "usage_data_plans['revenue'] = usage_data_plans.apply(calculate_revenue, axis=1)"
   ]
  },
  {
   "cell_type": "code",
   "execution_count": 37,
   "metadata": {},
   "outputs": [
    {
     "data": {
      "text/html": [
       "<div>\n",
       "<style scoped>\n",
       "    .dataframe tbody tr th:only-of-type {\n",
       "        vertical-align: middle;\n",
       "    }\n",
       "\n",
       "    .dataframe tbody tr th {\n",
       "        vertical-align: top;\n",
       "    }\n",
       "\n",
       "    .dataframe thead th {\n",
       "        text-align: right;\n",
       "    }\n",
       "</style>\n",
       "<table border=\"1\" class=\"dataframe\">\n",
       "  <thead>\n",
       "    <tr style=\"text-align: right;\">\n",
       "      <th></th>\n",
       "      <th>user_id</th>\n",
       "      <th>minutes_total</th>\n",
       "      <th>call_number_total</th>\n",
       "      <th>text_total</th>\n",
       "      <th>mb_used</th>\n",
       "      <th>gb_rounded</th>\n",
       "      <th>city</th>\n",
       "      <th>plan</th>\n",
       "      <th>revenue</th>\n",
       "    </tr>\n",
       "  </thead>\n",
       "  <tbody>\n",
       "    <tr>\n",
       "      <td>0</td>\n",
       "      <td>1000</td>\n",
       "      <td>124.0</td>\n",
       "      <td>16.0</td>\n",
       "      <td>11.0</td>\n",
       "      <td>1901.47</td>\n",
       "      <td>2.0</td>\n",
       "      <td>Atlanta-Sandy Springs-Roswell, GA MSA</td>\n",
       "      <td>ultimate</td>\n",
       "      <td>70.00</td>\n",
       "    </tr>\n",
       "    <tr>\n",
       "      <td>1</td>\n",
       "      <td>1001</td>\n",
       "      <td>182.0</td>\n",
       "      <td>27.0</td>\n",
       "      <td>30.0</td>\n",
       "      <td>6919.15</td>\n",
       "      <td>7.0</td>\n",
       "      <td>Seattle-Tacoma-Bellevue, WA MSA</td>\n",
       "      <td>surf</td>\n",
       "      <td>20.00</td>\n",
       "    </tr>\n",
       "    <tr>\n",
       "      <td>1</td>\n",
       "      <td>1001</td>\n",
       "      <td>315.0</td>\n",
       "      <td>49.0</td>\n",
       "      <td>44.0</td>\n",
       "      <td>13314.82</td>\n",
       "      <td>14.0</td>\n",
       "      <td>Seattle-Tacoma-Bellevue, WA MSA</td>\n",
       "      <td>surf</td>\n",
       "      <td>20.00</td>\n",
       "    </tr>\n",
       "    <tr>\n",
       "      <td>1</td>\n",
       "      <td>1001</td>\n",
       "      <td>393.0</td>\n",
       "      <td>65.0</td>\n",
       "      <td>53.0</td>\n",
       "      <td>22330.49</td>\n",
       "      <td>22.0</td>\n",
       "      <td>Seattle-Tacoma-Bellevue, WA MSA</td>\n",
       "      <td>surf</td>\n",
       "      <td>90.09</td>\n",
       "    </tr>\n",
       "    <tr>\n",
       "      <td>1</td>\n",
       "      <td>1001</td>\n",
       "      <td>426.0</td>\n",
       "      <td>64.0</td>\n",
       "      <td>36.0</td>\n",
       "      <td>18504.30</td>\n",
       "      <td>19.0</td>\n",
       "      <td>Seattle-Tacoma-Bellevue, WA MSA</td>\n",
       "      <td>surf</td>\n",
       "      <td>60.00</td>\n",
       "    </tr>\n",
       "    <tr>\n",
       "      <td>1</td>\n",
       "      <td>1001</td>\n",
       "      <td>412.0</td>\n",
       "      <td>56.0</td>\n",
       "      <td>44.0</td>\n",
       "      <td>19369.18</td>\n",
       "      <td>19.0</td>\n",
       "      <td>Seattle-Tacoma-Bellevue, WA MSA</td>\n",
       "      <td>surf</td>\n",
       "      <td>60.00</td>\n",
       "    </tr>\n",
       "    <tr>\n",
       "      <td>2</td>\n",
       "      <td>1002</td>\n",
       "      <td>59.0</td>\n",
       "      <td>11.0</td>\n",
       "      <td>15.0</td>\n",
       "      <td>6552.01</td>\n",
       "      <td>7.0</td>\n",
       "      <td>Las Vegas-Henderson-Paradise, NV MSA</td>\n",
       "      <td>surf</td>\n",
       "      <td>20.00</td>\n",
       "    </tr>\n",
       "    <tr>\n",
       "      <td>2</td>\n",
       "      <td>1002</td>\n",
       "      <td>386.0</td>\n",
       "      <td>55.0</td>\n",
       "      <td>32.0</td>\n",
       "      <td>19345.08</td>\n",
       "      <td>19.0</td>\n",
       "      <td>Las Vegas-Henderson-Paradise, NV MSA</td>\n",
       "      <td>surf</td>\n",
       "      <td>60.00</td>\n",
       "    </tr>\n",
       "    <tr>\n",
       "      <td>2</td>\n",
       "      <td>1002</td>\n",
       "      <td>384.0</td>\n",
       "      <td>47.0</td>\n",
       "      <td>41.0</td>\n",
       "      <td>14396.24</td>\n",
       "      <td>15.0</td>\n",
       "      <td>Las Vegas-Henderson-Paradise, NV MSA</td>\n",
       "      <td>surf</td>\n",
       "      <td>20.00</td>\n",
       "    </tr>\n",
       "    <tr>\n",
       "      <td>3</td>\n",
       "      <td>1003</td>\n",
       "      <td>1104.0</td>\n",
       "      <td>149.0</td>\n",
       "      <td>50.0</td>\n",
       "      <td>27044.14</td>\n",
       "      <td>27.0</td>\n",
       "      <td>Tulsa, OK MSA</td>\n",
       "      <td>surf</td>\n",
       "      <td>158.12</td>\n",
       "    </tr>\n",
       "  </tbody>\n",
       "</table>\n",
       "</div>"
      ],
      "text/plain": [
       "   user_id  minutes_total  call_number_total  text_total   mb_used  \\\n",
       "0     1000          124.0               16.0        11.0   1901.47   \n",
       "1     1001          182.0               27.0        30.0   6919.15   \n",
       "1     1001          315.0               49.0        44.0  13314.82   \n",
       "1     1001          393.0               65.0        53.0  22330.49   \n",
       "1     1001          426.0               64.0        36.0  18504.30   \n",
       "1     1001          412.0               56.0        44.0  19369.18   \n",
       "2     1002           59.0               11.0        15.0   6552.01   \n",
       "2     1002          386.0               55.0        32.0  19345.08   \n",
       "2     1002          384.0               47.0        41.0  14396.24   \n",
       "3     1003         1104.0              149.0        50.0  27044.14   \n",
       "\n",
       "   gb_rounded                                   city      plan  revenue  \n",
       "0         2.0  Atlanta-Sandy Springs-Roswell, GA MSA  ultimate    70.00  \n",
       "1         7.0        Seattle-Tacoma-Bellevue, WA MSA      surf    20.00  \n",
       "1        14.0        Seattle-Tacoma-Bellevue, WA MSA      surf    20.00  \n",
       "1        22.0        Seattle-Tacoma-Bellevue, WA MSA      surf    90.09  \n",
       "1        19.0        Seattle-Tacoma-Bellevue, WA MSA      surf    60.00  \n",
       "1        19.0        Seattle-Tacoma-Bellevue, WA MSA      surf    60.00  \n",
       "2         7.0   Las Vegas-Henderson-Paradise, NV MSA      surf    20.00  \n",
       "2        19.0   Las Vegas-Henderson-Paradise, NV MSA      surf    60.00  \n",
       "2        15.0   Las Vegas-Henderson-Paradise, NV MSA      surf    20.00  \n",
       "3        27.0                          Tulsa, OK MSA      surf   158.12  "
      ]
     },
     "execution_count": 37,
     "metadata": {},
     "output_type": "execute_result"
    }
   ],
   "source": [
    "# Verify\n",
    "usage_data_plans.head(10)"
   ]
  },
  {
   "cell_type": "markdown",
   "metadata": {},
   "source": [
    "At this point we have completed all of the preparations needed to properly analyze which plan is more profitable for the telecom operator. We were able to clean the dataframes we started with and group the data we needed from each one. Then we merged the customer usage data into one dataframe and built a function to calculate the revenue earned each month. After applying this function to the customer usage data, we are left with the above. The next step is to take this dataframe and search for trends. We can make use of some data visualization to help in this effort. "
   ]
  },
  {
   "cell_type": "code",
   "execution_count": 38,
   "metadata": {},
   "outputs": [
    {
     "data": {
      "image/png": "[encoded data removed]",
      "text/plain": [
       "<Figure size 432x288 with 1 Axes>"
      ]
     },
     "metadata": {
      "needs_background": "light"
     },
     "output_type": "display_data"
    }
   ],
   "source": [
    "import matplotlib.pyplot as plt\n",
    "%matplotlib inline\n",
    "\n",
    "plt.hist(x=usage_data_plans['minutes_total'], bins=50)\n",
    "plt.xlabel('Minutes used')\n",
    "plt.ylabel('Number of instances')\n",
    "plt.title('Total number of call minutes used per month');"
   ]
  },
  {
   "cell_type": "markdown",
   "metadata": {},
   "source": [
    "Looking at the above, we can see a peak at about 400 minutes with a long tail to the right. There appear to be some outliers in place - certainly on the high end. Since the number of instances appears to decrease after 1200 minutes, we will cut off the data there and consider anything higher then that as an outlier. There are also a lot of 0 values. This is certainly possible given what we are measuring. I'm sure there are people that exclusively communicate over text or online. These users would have 0 call minutes used by the end of the month. Given the nature of communication now, this is not unexpected."
   ]
  },
  {
   "cell_type": "code",
   "execution_count": 39,
   "metadata": {},
   "outputs": [
    {
     "data": {
      "image/png": "[encoded data removed]",
      "text/plain": [
       "<Figure size 432x288 with 1 Axes>"
      ]
     },
     "metadata": {
      "needs_background": "light"
     },
     "output_type": "display_data"
    }
   ],
   "source": [
    "plt.hist(x=usage_data_plans['text_total'], bins=50)\n",
    "plt.xlabel('Texts')\n",
    "plt.ylabel('Number of instances')\n",
    "plt.title('Total number of texts per month');"
   ]
  },
  {
   "cell_type": "markdown",
   "metadata": {},
   "source": [
    "Most of the data here appears to be focused under 100 texts per month. There are a significant numebr of instances up to 150 texts, and after that we are left with the highest outliers. Anything after 150 should be safe to remove. There are a significant number of users that send 0 texts per month. This is entirely possible, especially for older users that may not be used to texting as a form of communication. "
   ]
  },
  {
   "cell_type": "code",
   "execution_count": 40,
   "metadata": {},
   "outputs": [
    {
     "data": {
      "image/png": "[encoded data removed]",
      "text/plain": [
       "<Figure size 432x288 with 1 Axes>"
      ]
     },
     "metadata": {
      "needs_background": "light"
     },
     "output_type": "display_data"
    }
   ],
   "source": [
    "plt.hist(x=usage_data_plans['gb_rounded'], bins=30)\n",
    "plt.xlabel('GB used')\n",
    "plt.ylabel('Number of instances')\n",
    "plt.title('Total amount of data used per month');"
   ]
  },
  {
   "cell_type": "markdown",
   "metadata": {},
   "source": [
    "The peak here is around 15 GB of data used in one month, with most of the data focused between 0 and 40 GB. We can remove anything after 40 GB as an outlier, since there are only a few instances of data usage higher than that. There are a significant number low data (0-1 GB) users, which is possible if the user exclusively uses their phone when attached to a Wi-Fi network. If the user is using Wi-Fi, they can avoid using cellular data."
   ]
  },
  {
   "cell_type": "code",
   "execution_count": 41,
   "metadata": {},
   "outputs": [
    {
     "data": {
      "image/png": "[encoded data removed]",
      "text/plain": [
       "<Figure size 432x288 with 1 Axes>"
      ]
     },
     "metadata": {
      "needs_background": "light"
     },
     "output_type": "display_data"
    }
   ],
   "source": [
    "plt.hist(x=usage_data_plans['revenue'], bins=40)\n",
    "plt.xlabel('Revenue earned')\n",
    "plt.ylabel('Number of instances')\n",
    "plt.title('Total revenue earned per month');"
   ]
  },
  {
   "cell_type": "markdown",
   "metadata": {},
   "source": [
    "There are two very significant peaks here - one at 20 and another at 70 per month, which is exactly how much the Surf and Ultimate plans cost, respectively. After these peaks, the revenue earned trails to about 200, with a few more instances afterwards. Removing the revenue earned after 200 should take care of these extreme outliers and will allow us to analyze the dataframe properly."
   ]
  },
  {
   "cell_type": "code",
   "execution_count": 42,
   "metadata": {},
   "outputs": [
    {
     "data": {
      "text/plain": [
       "user_id              2.045493e+04\n",
       "minutes_total        5.378734e+04\n",
       "call_number_total    1.008941e+03\n",
       "text_total           1.096521e+03\n",
       "mb_used              6.190631e+07\n",
       "gb_rounded           5.916677e+01\n",
       "revenue              2.172937e+03\n",
       "dtype: float64"
      ]
     },
     "metadata": {},
     "output_type": "display_data"
    },
    {
     "data": {
      "text/html": [
       "<div>\n",
       "<style scoped>\n",
       "    .dataframe tbody tr th:only-of-type {\n",
       "        vertical-align: middle;\n",
       "    }\n",
       "\n",
       "    .dataframe tbody tr th {\n",
       "        vertical-align: top;\n",
       "    }\n",
       "\n",
       "    .dataframe thead th {\n",
       "        text-align: right;\n",
       "    }\n",
       "</style>\n",
       "<table border=\"1\" class=\"dataframe\">\n",
       "  <thead>\n",
       "    <tr style=\"text-align: right;\">\n",
       "      <th></th>\n",
       "      <th>user_id</th>\n",
       "      <th>minutes_total</th>\n",
       "      <th>call_number_total</th>\n",
       "      <th>text_total</th>\n",
       "      <th>mb_used</th>\n",
       "      <th>gb_rounded</th>\n",
       "      <th>revenue</th>\n",
       "    </tr>\n",
       "  </thead>\n",
       "  <tbody>\n",
       "    <tr>\n",
       "      <td>count</td>\n",
       "      <td>2293.000000</td>\n",
       "      <td>2258.000000</td>\n",
       "      <td>2258.000000</td>\n",
       "      <td>1806.000000</td>\n",
       "      <td>2277.000000</td>\n",
       "      <td>2277.000000</td>\n",
       "      <td>2293.000000</td>\n",
       "    </tr>\n",
       "    <tr>\n",
       "      <td>mean</td>\n",
       "      <td>1246.075883</td>\n",
       "      <td>435.937555</td>\n",
       "      <td>60.998671</td>\n",
       "      <td>42.110188</td>\n",
       "      <td>16882.197501</td>\n",
       "      <td>16.989021</td>\n",
       "      <td>64.351147</td>\n",
       "    </tr>\n",
       "    <tr>\n",
       "      <td>std</td>\n",
       "      <td>143.051927</td>\n",
       "      <td>231.972343</td>\n",
       "      <td>31.770869</td>\n",
       "      <td>33.122931</td>\n",
       "      <td>7869.784848</td>\n",
       "      <td>7.693683</td>\n",
       "      <td>46.624945</td>\n",
       "    </tr>\n",
       "    <tr>\n",
       "      <td>min</td>\n",
       "      <td>1000.000000</td>\n",
       "      <td>0.000000</td>\n",
       "      <td>1.000000</td>\n",
       "      <td>1.000000</td>\n",
       "      <td>92.310000</td>\n",
       "      <td>1.000000</td>\n",
       "      <td>20.000000</td>\n",
       "    </tr>\n",
       "    <tr>\n",
       "      <td>25%</td>\n",
       "      <td>1122.000000</td>\n",
       "      <td>275.000000</td>\n",
       "      <td>39.000000</td>\n",
       "      <td>17.000000</td>\n",
       "      <td>12347.720000</td>\n",
       "      <td>13.000000</td>\n",
       "      <td>23.480000</td>\n",
       "    </tr>\n",
       "    <tr>\n",
       "      <td>50%</td>\n",
       "      <td>1245.000000</td>\n",
       "      <td>429.000000</td>\n",
       "      <td>60.000000</td>\n",
       "      <td>34.000000</td>\n",
       "      <td>16873.740000</td>\n",
       "      <td>17.000000</td>\n",
       "      <td>70.000000</td>\n",
       "    </tr>\n",
       "    <tr>\n",
       "      <td>75%</td>\n",
       "      <td>1368.000000</td>\n",
       "      <td>574.750000</td>\n",
       "      <td>80.000000</td>\n",
       "      <td>59.000000</td>\n",
       "      <td>21041.520000</td>\n",
       "      <td>21.000000</td>\n",
       "      <td>70.000000</td>\n",
       "    </tr>\n",
       "    <tr>\n",
       "      <td>max</td>\n",
       "      <td>1499.000000</td>\n",
       "      <td>1510.000000</td>\n",
       "      <td>205.000000</td>\n",
       "      <td>266.000000</td>\n",
       "      <td>70931.590000</td>\n",
       "      <td>70.000000</td>\n",
       "      <td>590.370000</td>\n",
       "    </tr>\n",
       "  </tbody>\n",
       "</table>\n",
       "</div>"
      ],
      "text/plain": [
       "           user_id  minutes_total  call_number_total   text_total  \\\n",
       "count  2293.000000    2258.000000        2258.000000  1806.000000   \n",
       "mean   1246.075883     435.937555          60.998671    42.110188   \n",
       "std     143.051927     231.972343          31.770869    33.122931   \n",
       "min    1000.000000       0.000000           1.000000     1.000000   \n",
       "25%    1122.000000     275.000000          39.000000    17.000000   \n",
       "50%    1245.000000     429.000000          60.000000    34.000000   \n",
       "75%    1368.000000     574.750000          80.000000    59.000000   \n",
       "max    1499.000000    1510.000000         205.000000   266.000000   \n",
       "\n",
       "            mb_used   gb_rounded      revenue  \n",
       "count   2277.000000  2277.000000  2293.000000  \n",
       "mean   16882.197501    16.989021    64.351147  \n",
       "std     7869.784848     7.693683    46.624945  \n",
       "min       92.310000     1.000000    20.000000  \n",
       "25%    12347.720000    13.000000    23.480000  \n",
       "50%    16873.740000    17.000000    70.000000  \n",
       "75%    21041.520000    21.000000    70.000000  \n",
       "max    70931.590000    70.000000   590.370000  "
      ]
     },
     "execution_count": 42,
     "metadata": {},
     "output_type": "execute_result"
    }
   ],
   "source": [
    "display(np.var(usage_data_plans))\n",
    "usage_data_plans.describe()"
   ]
  },
  {
   "cell_type": "markdown",
   "metadata": {},
   "source": [
    "From the above, we can start to get a rough idea of how the plans are used, and what our extreme values are. Customers on average appear to talk for approx. 436 minutes per month, with a stdev of 232 minutes! The minutes used appear to be fairly spread out around the mean, with a slight skew to the right as the mean sits higher than the median (429 mins). 75% of the data is below 575 minutes, with a max value of 1510 mins. This tells us that there is a large spread on the upper end of the minutes used, which likely causes this \"skew\" to the right. There are also some customers who make no calls at all. <br><br>\n",
    "Looking at the text column, we see that the mean is 42 texts per month, with a median of 34, and a stdev of 33. Again, we have a skew to the right and data that appears to be fairly spread out around the median/mean. 75% of the data is at or below 59 texts per month, and the maximum sent is 266. This noticeably large max value is causing the right skew, as the 25, 50, and 75% values show most of the data at least 200+ texts below that maximum. <br><br>\n",
    "Moving on to the data used, we have a mean and median of 17 GB, and a stdev of 7.7 GB. There is no real skew to the data, though it does appear to again be spread around the median/mean with a relatively large stdev. The max GB used is 70, which is substantially higher than the 75% mark of 21 GB. Perhaps we have one or two users who watch TV or movies offline, or play games during their communte on public transit? Either way, we again have some outliers on the far end of the spectrum. <br><br>\n",
    "Lastly we will take a look at the revenue. We have a mean of 64.3 and median of 70 earned per month from our customers, with a stdev of 46.6. There's a skew to the left this time, with many of our customers making us no additional revenue off of the base monthly cost of each plan (20 for surf and 70 for ultimate). Notice that the min is exactly 20, and at least 25% of our customers make the operator anywhere from 20 to 23.48 per month. Since the median is exactly 70, it seems as if at least half of the customer base in our dataframe is on the ultimate plan, and because 75% of the customer base is also at 70 in revenue earned, those customers are not making the operator anything on top of the plan cost. The histogram verifies this, as we see two noticable spikes, one likely at 20 and the other at 70. We have a relatively huge maximum value of 590.37 earned in one month from some lucky/unlucky customer. Overall, I think we can attribute the large stdev here to the fact that most of the customers are not being charged much after their alloted data, minutes, and texts, making most of the customers \"revenue\" equal to the cost of the plan (20 or 70). This roughly 50 gap is noticeably close to the stdev of 46.6. I would be willing to bet that if our dataframe included more, the stdev would trend closer to 50. "
   ]
  },
  {
   "cell_type": "markdown",
   "metadata": {},
   "source": [
    "Let's remove our outliers now and take a look at the difference in the spread of our distributions."
   ]
  },
  {
   "cell_type": "code",
   "execution_count": 43,
   "metadata": {},
   "outputs": [],
   "source": [
    "outlier_data = usage_data_plans.query(\n",
    "    'minutes_total > 1200 | text_total > 150 | gb_rounded > 40 | revenue > 200'\n",
    ")"
   ]
  },
  {
   "cell_type": "code",
   "execution_count": 44,
   "metadata": {},
   "outputs": [],
   "source": [
    "usage_data_plans = usage_data_plans.drop(outlier_data.index, axis=0)"
   ]
  },
  {
   "cell_type": "markdown",
   "metadata": {},
   "source": [
    "Now that we've removed our outliers, let's take a look at our distributions again."
   ]
  },
  {
   "cell_type": "code",
   "execution_count": 45,
   "metadata": {},
   "outputs": [
    {
     "data": {
      "image/png": "[encoded data removed]",
      "text/plain": [
       "<Figure size 1080x720 with 4 Axes>"
      ]
     },
     "metadata": {
      "needs_background": "light"
     },
     "output_type": "display_data"
    }
   ],
   "source": [
    "usage_data_plans[['minutes_total', 'text_total', 'gb_rounded', 'revenue']].hist(bins=30, figsize=(15,10));"
   ]
  },
  {
   "cell_type": "markdown",
   "metadata": {},
   "source": [
    "Excellent, that's much better. Now that we've cleaned and examined the distributions, let's really dig into this and see which plan makes the telecom operator more revenue through hypothesis testing."
   ]
  },
  {
   "cell_type": "markdown",
   "metadata": {},
   "source": [
    "## Hypothesis Testing"
   ]
  },
  {
   "cell_type": "markdown",
   "metadata": {},
   "source": [
    "We will start with our null hypothesis: The average revenue of our Surf and Ultimate plans are the same. Our alternative hypothesis would then be: The average revenue of our Surf and Ultimate plans differs. We will test this by looking at the p-value, set to 0.05 (or 5 percent), and applying a single sample T-test using scipy."
   ]
  },
  {
   "cell_type": "code",
   "execution_count": 46,
   "metadata": {},
   "outputs": [
    {
     "name": "stdout",
     "output_type": "stream",
     "text": [
      "50.70832382310985 71.04123711340206\n"
     ]
    }
   ],
   "source": [
    "surf_plans = usage_data_plans.groupby('plan')['revenue'].get_group('surf')\n",
    "ult_plans = usage_data_plans.groupby('plan')['revenue'].get_group('ultimate')\n",
    "\n",
    "print(surf_plans.mean(), ult_plans.mean())"
   ]
  },
  {
   "cell_type": "code",
   "execution_count": 47,
   "metadata": {},
   "outputs": [
    {
     "name": "stdout",
     "output_type": "stream",
     "text": [
      "pvalue:  2.0495597186833804e-44\n",
      "alpha:  0.05\n",
      "We reject the null hypothesis\n"
     ]
    }
   ],
   "source": [
    "import scipy.stats as st\n",
    "\n",
    "alpha = 0.05\n",
    "results = st.ttest_ind(surf_plans, ult_plans)\n",
    "\n",
    "print('pvalue: ', results.pvalue)\n",
    "print('alpha: ', alpha)\n",
    "if results.pvalue < alpha:\n",
    "    print('We reject the null hypothesis')\n",
    "else:\n",
    "    print('We cannot reject the null hypothesis')"
   ]
  },
  {
   "cell_type": "markdown",
   "metadata": {},
   "source": [
    "The above test resulted in an extremely small pvalue, indicating that we can reject the null hypothesis and accept the alternative hypothesis: the average revenue of the surf and ultimate plans do differ. The above means indicate this to be true as well - the ultimate plan on average produces more revenue than the surf plan (71 vs 50.7). "
   ]
  },
  {
   "cell_type": "markdown",
   "metadata": {},
   "source": [
    "Next we will focus on a specific region: the NY-NJ area. Our null hypothesis will be: The average profit from users in the NY-NJ region is not different from that of users elsewhere. The alternative hypothesis would then be: The average profit from users in the NY-NJ region is different from that of users elsewhere."
   ]
  },
  {
   "cell_type": "code",
   "execution_count": 48,
   "metadata": {},
   "outputs": [
    {
     "data": {
      "text/plain": [
       "(55.53136871508379, 57.71900174114916)"
      ]
     },
     "execution_count": 48,
     "metadata": {},
     "output_type": "execute_result"
    }
   ],
   "source": [
    "# First we need to create a way to just look at users in this region\n",
    "ny_nj_users_bool = usage_data_plans['city'].apply(lambda x: True if 'NY-NJ' in x else False)\n",
    "ny_nj_users = usage_data_plans[ny_nj_users_bool]['user_id'].values.tolist()\n",
    "\n",
    "# Then to create the dataframes to test\n",
    "ny_nj_plans = usage_data_plans[usage_data_plans['user_id'].isin(ny_nj_users)]['revenue']\n",
    "other_plans = usage_data_plans[~usage_data_plans['user_id'].isin(ny_nj_users)]['revenue']\n",
    "\n",
    "ny_nj_plans.mean(), other_plans.mean()"
   ]
  },
  {
   "cell_type": "code",
   "execution_count": 49,
   "metadata": {},
   "outputs": [
    {
     "name": "stdout",
     "output_type": "stream",
     "text": [
      "pvalue:  0.23677477795676188\n",
      "alpha:  0.05\n",
      "We cannot reject the null hypothesis\n"
     ]
    }
   ],
   "source": [
    "alpha = 0.05\n",
    "results = st.ttest_ind(ny_nj_plans, other_plans)\n",
    "\n",
    "print('pvalue: ', results.pvalue)\n",
    "print('alpha: ', alpha)\n",
    "if results.pvalue < alpha:\n",
    "    print('We reject the null hypothesis')\n",
    "else:\n",
    "    print('We cannot reject the null hypothesis')"
   ]
  },
  {
   "cell_type": "markdown",
   "metadata": {},
   "source": [
    "From the above we see that we cannot reject the null hypothesis: The average profit from users in the NY-NJ region is NOT different from that of users elsewhere. Looking at the means above, we can see that the other regions appear to be slightly more profitable than the NY-NJ users."
   ]
  },
  {
   "cell_type": "markdown",
   "metadata": {},
   "source": [
    "# Conclusion"
   ]
  },
  {
   "cell_type": "markdown",
   "metadata": {},
   "source": [
    "Overall the data came in nicely without a need for much cleaning. We were able to group usages together from the separate dataframes and create one df with all of the important values. From there, we were able to calculate the revenue earned from each user and could then begin to test out our hypotheses. In the testing phase, we were able to conclude that the average revenue differs between the two plans, and that the Ultimate plan on average creates more revenue. We are also able to conclude that users from the NY-NJ region do not generate more revenue from users elsewhere, though the means seem to indicate that there is a slightly higher average from those other users compared to the NY-NJ customers."
   ]
  }
 ],
 "metadata": {
  "ExecuteTimeLog": [
   {
    "duration": 3639,
    "start_time": "2021-08-27T02:16:19.408Z"
   },
   {
    "duration": 394,
    "start_time": "2021-08-27T02:18:55.210Z"
   },
   {
    "duration": 34,
    "start_time": "2021-08-27T02:19:48.014Z"
   },
   {
    "duration": 31,
    "start_time": "2021-08-27T02:19:55.991Z"
   },
   {
    "duration": 41,
    "start_time": "2021-08-27T02:24:04.283Z"
   },
   {
    "duration": 36,
    "start_time": "2021-08-27T02:28:27.310Z"
   },
   {
    "duration": 23,
    "start_time": "2021-08-27T02:32:06.580Z"
   },
   {
    "duration": 52,
    "start_time": "2021-08-27T02:34:13.471Z"
   },
   {
    "duration": 13,
    "start_time": "2021-08-27T02:34:24.350Z"
   },
   {
    "duration": 16,
    "start_time": "2021-08-27T02:50:19.756Z"
   },
   {
    "duration": 14,
    "start_time": "2021-08-27T02:50:51.816Z"
   },
   {
    "duration": 8,
    "start_time": "2021-08-27T02:51:10.023Z"
   },
   {
    "duration": 5,
    "start_time": "2021-08-27T03:17:09.514Z"
   },
   {
    "duration": 15,
    "start_time": "2021-08-27T03:17:20.109Z"
   },
   {
    "duration": 5,
    "start_time": "2021-08-27T03:17:58.286Z"
   },
   {
    "duration": 7,
    "start_time": "2021-08-27T03:18:24.919Z"
   },
   {
    "duration": 14,
    "start_time": "2021-08-27T03:23:39.431Z"
   },
   {
    "duration": 10,
    "start_time": "2021-08-27T03:23:45.310Z"
   },
   {
    "duration": 6,
    "start_time": "2021-08-27T03:24:03.780Z"
   },
   {
    "duration": 5,
    "start_time": "2021-08-27T03:24:39.545Z"
   },
   {
    "duration": 6,
    "start_time": "2021-08-27T03:24:51.287Z"
   },
   {
    "duration": 7,
    "start_time": "2021-08-27T03:24:56.464Z"
   },
   {
    "duration": 443,
    "start_time": "2021-08-27T03:25:42.222Z"
   },
   {
    "duration": 4,
    "start_time": "2021-08-27T03:25:47.821Z"
   },
   {
    "duration": 7,
    "start_time": "2021-08-27T03:26:44.477Z"
   },
   {
    "duration": 15,
    "start_time": "2021-08-27T03:29:56.508Z"
   },
   {
    "duration": 8,
    "start_time": "2021-08-27T03:31:38.599Z"
   },
   {
    "duration": 5,
    "start_time": "2021-08-27T03:32:27.482Z"
   },
   {
    "duration": 15,
    "start_time": "2021-08-27T03:32:37.549Z"
   },
   {
    "duration": 6,
    "start_time": "2021-08-27T03:39:42.153Z"
   },
   {
    "duration": 3642,
    "start_time": "2021-08-27T03:44:54.911Z"
   },
   {
    "duration": 9,
    "start_time": "2021-08-27T03:45:11.466Z"
   },
   {
    "duration": 1224,
    "start_time": "2021-08-27T03:46:24.170Z"
   },
   {
    "duration": 51,
    "start_time": "2021-08-27T03:46:25.398Z"
   },
   {
    "duration": 61,
    "start_time": "2021-08-27T03:46:25.452Z"
   },
   {
    "duration": 38,
    "start_time": "2021-08-27T03:46:25.515Z"
   },
   {
    "duration": 59,
    "start_time": "2021-08-27T03:46:25.556Z"
   },
   {
    "duration": 15,
    "start_time": "2021-08-27T03:46:25.619Z"
   },
   {
    "duration": 16,
    "start_time": "2021-08-27T03:46:25.637Z"
   },
   {
    "duration": 50,
    "start_time": "2021-08-27T03:46:25.658Z"
   },
   {
    "duration": 6,
    "start_time": "2021-08-27T03:46:25.711Z"
   },
   {
    "duration": 9,
    "start_time": "2021-08-27T03:46:25.720Z"
   },
   {
    "duration": 9,
    "start_time": "2021-08-27T03:46:25.732Z"
   },
   {
    "duration": 8,
    "start_time": "2021-08-27T03:46:25.744Z"
   },
   {
    "duration": 12,
    "start_time": "2021-08-27T03:46:25.800Z"
   },
   {
    "duration": 10,
    "start_time": "2021-08-27T03:48:22.921Z"
   },
   {
    "duration": 8,
    "start_time": "2021-08-27T03:48:49.543Z"
   },
   {
    "duration": 9,
    "start_time": "2021-08-27T03:49:36.292Z"
   },
   {
    "duration": 8,
    "start_time": "2021-08-27T03:49:38.942Z"
   },
   {
    "duration": 10,
    "start_time": "2021-08-27T03:49:46.025Z"
   },
   {
    "duration": 10,
    "start_time": "2021-08-27T03:51:48.495Z"
   },
   {
    "duration": 21,
    "start_time": "2021-08-27T03:53:54.855Z"
   },
   {
    "duration": 68,
    "start_time": "2021-08-27T03:54:10.893Z"
   },
   {
    "duration": 12,
    "start_time": "2021-08-27T03:56:16.489Z"
   },
   {
    "duration": 2701,
    "start_time": "2021-08-27T04:01:10.073Z"
   },
   {
    "duration": 39,
    "start_time": "2021-08-27T04:01:28.507Z"
   },
   {
    "duration": 395,
    "start_time": "2021-08-27T04:02:01.297Z"
   },
   {
    "duration": 20,
    "start_time": "2021-08-27T04:03:32.225Z"
   },
   {
    "duration": 24,
    "start_time": "2021-08-27T04:04:01.479Z"
   },
   {
    "duration": 997,
    "start_time": "2021-08-27T14:36:07.712Z"
   },
   {
    "duration": 29,
    "start_time": "2021-08-27T14:36:08.711Z"
   },
   {
    "duration": 31,
    "start_time": "2021-08-27T14:36:08.742Z"
   },
   {
    "duration": 27,
    "start_time": "2021-08-27T14:36:08.774Z"
   },
   {
    "duration": 41,
    "start_time": "2021-08-27T14:36:08.803Z"
   },
   {
    "duration": 9,
    "start_time": "2021-08-27T14:36:08.846Z"
   },
   {
    "duration": 14,
    "start_time": "2021-08-27T14:36:08.856Z"
   },
   {
    "duration": 8,
    "start_time": "2021-08-27T14:36:08.872Z"
   },
   {
    "duration": 7,
    "start_time": "2021-08-27T14:36:08.881Z"
   },
   {
    "duration": 13,
    "start_time": "2021-08-27T14:36:08.890Z"
   },
   {
    "duration": 6,
    "start_time": "2021-08-27T14:36:08.904Z"
   },
   {
    "duration": 7,
    "start_time": "2021-08-27T14:36:08.941Z"
   },
   {
    "duration": 11,
    "start_time": "2021-08-27T14:36:08.950Z"
   },
   {
    "duration": 7,
    "start_time": "2021-08-27T14:36:08.963Z"
   },
   {
    "duration": 17,
    "start_time": "2021-08-27T14:36:08.972Z"
   },
   {
    "duration": 70,
    "start_time": "2021-08-27T14:36:08.990Z"
   },
   {
    "duration": 32,
    "start_time": "2021-08-27T14:36:09.061Z"
   },
   {
    "duration": 14,
    "start_time": "2021-08-27T14:37:59.847Z"
   },
   {
    "duration": 55,
    "start_time": "2021-08-27T14:38:15.561Z"
   },
   {
    "duration": 8,
    "start_time": "2021-08-27T18:46:23.978Z"
   },
   {
    "duration": 17,
    "start_time": "2021-08-27T18:50:25.092Z"
   },
   {
    "duration": 11,
    "start_time": "2021-08-27T18:53:55.591Z"
   },
   {
    "duration": 18,
    "start_time": "2021-08-27T18:54:06.887Z"
   },
   {
    "duration": 7,
    "start_time": "2021-08-27T19:17:41.212Z"
   },
   {
    "duration": 14,
    "start_time": "2021-08-27T19:19:00.174Z"
   },
   {
    "duration": 1183,
    "start_time": "2021-08-30T15:16:20.029Z"
   },
   {
    "duration": 44,
    "start_time": "2021-08-30T15:16:21.215Z"
   },
   {
    "duration": 66,
    "start_time": "2021-08-30T15:16:21.262Z"
   },
   {
    "duration": 37,
    "start_time": "2021-08-30T15:16:21.330Z"
   },
   {
    "duration": 53,
    "start_time": "2021-08-30T15:16:21.370Z"
   },
   {
    "duration": 14,
    "start_time": "2021-08-30T15:16:21.425Z"
   },
   {
    "duration": 15,
    "start_time": "2021-08-30T15:16:21.441Z"
   },
   {
    "duration": 9,
    "start_time": "2021-08-30T15:16:21.460Z"
   },
   {
    "duration": 47,
    "start_time": "2021-08-30T15:16:21.472Z"
   },
   {
    "duration": 10,
    "start_time": "2021-08-30T15:16:21.521Z"
   },
   {
    "duration": 7,
    "start_time": "2021-08-30T15:16:21.533Z"
   },
   {
    "duration": 11,
    "start_time": "2021-08-30T15:16:21.542Z"
   },
   {
    "duration": 16,
    "start_time": "2021-08-30T15:16:21.555Z"
   },
   {
    "duration": 43,
    "start_time": "2021-08-30T15:16:21.574Z"
   },
   {
    "duration": 20,
    "start_time": "2021-08-30T15:16:21.620Z"
   },
   {
    "duration": 85,
    "start_time": "2021-08-30T15:16:21.642Z"
   },
   {
    "duration": 45,
    "start_time": "2021-08-30T15:16:21.729Z"
   },
   {
    "duration": 44,
    "start_time": "2021-08-30T15:16:21.777Z"
   },
   {
    "duration": 94,
    "start_time": "2021-08-30T15:16:21.824Z"
   },
   {
    "duration": 27,
    "start_time": "2021-08-30T15:16:21.921Z"
   },
   {
    "duration": 14,
    "start_time": "2021-08-30T15:16:21.950Z"
   },
   {
    "duration": 63,
    "start_time": "2021-08-30T15:16:21.966Z"
   },
   {
    "duration": 20,
    "start_time": "2021-08-30T15:16:22.033Z"
   },
   {
    "duration": 16,
    "start_time": "2021-08-30T15:38:49.449Z"
   },
   {
    "duration": 10,
    "start_time": "2021-08-30T15:39:05.918Z"
   },
   {
    "duration": 13,
    "start_time": "2021-08-30T15:39:27.279Z"
   },
   {
    "duration": 14,
    "start_time": "2021-08-30T15:39:45.934Z"
   },
   {
    "duration": 521,
    "start_time": "2021-08-30T15:46:05.961Z"
   },
   {
    "duration": 391,
    "start_time": "2021-08-30T15:47:30.927Z"
   },
   {
    "duration": 32,
    "start_time": "2021-08-30T18:19:57.940Z"
   },
   {
    "duration": 546,
    "start_time": "2021-08-30T18:20:53.639Z"
   },
   {
    "duration": 1296,
    "start_time": "2021-08-30T18:29:44.454Z"
   },
   {
    "duration": 67,
    "start_time": "2021-08-30T18:30:00.494Z"
   },
   {
    "duration": 57,
    "start_time": "2021-08-30T18:30:13.141Z"
   },
   {
    "duration": 79,
    "start_time": "2021-08-30T18:31:16.535Z"
   },
   {
    "duration": 88,
    "start_time": "2021-08-30T18:32:38.965Z"
   },
   {
    "duration": 47,
    "start_time": "2021-08-30T18:38:44.284Z"
   },
   {
    "duration": 46,
    "start_time": "2021-08-30T18:43:04.347Z"
   },
   {
    "duration": 12,
    "start_time": "2021-08-30T18:52:06.297Z"
   },
   {
    "duration": 12,
    "start_time": "2021-08-30T18:52:21.013Z"
   },
   {
    "duration": 395,
    "start_time": "2021-08-30T19:38:56.182Z"
   },
   {
    "duration": 382,
    "start_time": "2021-08-30T19:39:10.445Z"
   },
   {
    "duration": 67,
    "start_time": "2021-08-30T19:39:16.032Z"
   },
   {
    "duration": 79,
    "start_time": "2021-08-30T19:41:05.467Z"
   },
   {
    "duration": 391,
    "start_time": "2021-08-30T19:41:21.882Z"
   },
   {
    "duration": 415,
    "start_time": "2021-08-30T19:41:33.893Z"
   },
   {
    "duration": 42,
    "start_time": "2021-08-30T19:48:09.870Z"
   },
   {
    "duration": 81,
    "start_time": "2021-08-30T19:48:50.097Z"
   },
   {
    "duration": 25,
    "start_time": "2021-08-30T19:53:43.784Z"
   },
   {
    "duration": 162,
    "start_time": "2021-08-30T19:57:13.807Z"
   },
   {
    "duration": 139,
    "start_time": "2021-08-30T19:59:28.828Z"
   },
   {
    "duration": 28,
    "start_time": "2021-08-30T20:00:19.109Z"
   },
   {
    "duration": 8,
    "start_time": "2021-08-30T20:01:59.831Z"
   },
   {
    "duration": 6,
    "start_time": "2021-08-30T20:02:32.179Z"
   },
   {
    "duration": 8,
    "start_time": "2021-08-30T20:02:40.756Z"
   },
   {
    "duration": 8,
    "start_time": "2021-08-30T20:12:27.965Z"
   },
   {
    "duration": 5,
    "start_time": "2021-08-30T20:12:43.828Z"
   },
   {
    "duration": 25,
    "start_time": "2021-08-30T20:13:56.154Z"
   },
   {
    "duration": 125,
    "start_time": "2021-08-30T20:14:12.374Z"
   },
   {
    "duration": 5,
    "start_time": "2021-08-30T20:14:39.443Z"
   },
   {
    "duration": 17,
    "start_time": "2021-08-30T20:14:46.334Z"
   },
   {
    "duration": 33,
    "start_time": "2021-08-30T20:16:00.885Z"
   },
   {
    "duration": 1168,
    "start_time": "2021-09-03T17:44:00.064Z"
   },
   {
    "duration": 43,
    "start_time": "2021-09-03T17:44:01.235Z"
   },
   {
    "duration": 40,
    "start_time": "2021-09-03T17:44:01.281Z"
   },
   {
    "duration": 61,
    "start_time": "2021-09-03T17:44:01.324Z"
   },
   {
    "duration": 23,
    "start_time": "2021-09-03T17:44:01.387Z"
   },
   {
    "duration": 16,
    "start_time": "2021-09-03T17:44:01.413Z"
   },
   {
    "duration": 47,
    "start_time": "2021-09-03T17:44:01.431Z"
   },
   {
    "duration": 7,
    "start_time": "2021-09-03T17:44:01.482Z"
   },
   {
    "duration": 16,
    "start_time": "2021-09-03T17:44:01.492Z"
   },
   {
    "duration": 16,
    "start_time": "2021-09-03T17:44:01.510Z"
   },
   {
    "duration": 14,
    "start_time": "2021-09-03T17:44:01.528Z"
   },
   {
    "duration": 29,
    "start_time": "2021-09-03T17:44:01.544Z"
   },
   {
    "duration": 34,
    "start_time": "2021-09-03T17:44:01.576Z"
   },
   {
    "duration": 33,
    "start_time": "2021-09-03T17:44:01.613Z"
   },
   {
    "duration": 53,
    "start_time": "2021-09-03T17:44:01.648Z"
   },
   {
    "duration": 95,
    "start_time": "2021-09-03T17:44:01.704Z"
   },
   {
    "duration": 66,
    "start_time": "2021-09-03T17:44:01.802Z"
   },
   {
    "duration": 31,
    "start_time": "2021-09-03T17:44:01.871Z"
   },
   {
    "duration": 96,
    "start_time": "2021-09-03T17:44:01.904Z"
   },
   {
    "duration": 26,
    "start_time": "2021-09-03T17:44:02.003Z"
   },
   {
    "duration": 15,
    "start_time": "2021-09-03T17:44:02.031Z"
   },
   {
    "duration": 32,
    "start_time": "2021-09-03T17:44:02.068Z"
   },
   {
    "duration": 24,
    "start_time": "2021-09-03T17:44:02.106Z"
   },
   {
    "duration": 106,
    "start_time": "2021-09-03T17:44:02.169Z"
   },
   {
    "duration": 49,
    "start_time": "2021-09-03T17:44:02.277Z"
   },
   {
    "duration": 69,
    "start_time": "2021-09-03T17:44:02.328Z"
   },
   {
    "duration": 9,
    "start_time": "2021-09-03T17:44:02.399Z"
   },
   {
    "duration": 57,
    "start_time": "2021-09-03T17:44:02.411Z"
   },
   {
    "duration": 6,
    "start_time": "2021-09-03T17:44:02.470Z"
   },
   {
    "duration": 21,
    "start_time": "2021-09-03T17:44:02.479Z"
   },
   {
    "duration": 35,
    "start_time": "2021-09-03T17:44:02.502Z"
   },
   {
    "duration": 5,
    "start_time": "2021-09-03T18:03:50.980Z"
   },
   {
    "duration": 9,
    "start_time": "2021-09-03T18:04:00.426Z"
   },
   {
    "duration": 12,
    "start_time": "2021-09-03T18:06:49.904Z"
   },
   {
    "duration": 5,
    "start_time": "2021-09-03T18:07:06.319Z"
   },
   {
    "duration": 6,
    "start_time": "2021-09-03T18:07:20.822Z"
   },
   {
    "duration": 14,
    "start_time": "2021-09-03T18:07:31.985Z"
   },
   {
    "duration": 9,
    "start_time": "2021-09-03T18:08:52.411Z"
   },
   {
    "duration": 5,
    "start_time": "2021-09-03T18:08:54.632Z"
   },
   {
    "duration": 5,
    "start_time": "2021-09-03T18:08:56.170Z"
   },
   {
    "duration": 864,
    "start_time": "2021-09-24T01:57:15.965Z"
   },
   {
    "duration": 27,
    "start_time": "2021-09-24T01:57:16.830Z"
   },
   {
    "duration": 28,
    "start_time": "2021-09-24T01:57:16.860Z"
   },
   {
    "duration": 26,
    "start_time": "2021-09-24T01:57:16.889Z"
   },
   {
    "duration": 38,
    "start_time": "2021-09-24T01:57:16.917Z"
   },
   {
    "duration": 8,
    "start_time": "2021-09-24T01:57:16.957Z"
   },
   {
    "duration": 37,
    "start_time": "2021-09-24T01:57:16.967Z"
   },
   {
    "duration": 19,
    "start_time": "2021-09-24T01:57:17.006Z"
   },
   {
    "duration": 28,
    "start_time": "2021-09-24T01:57:17.030Z"
   },
   {
    "duration": 25,
    "start_time": "2021-09-24T01:57:17.062Z"
   },
   {
    "duration": 28,
    "start_time": "2021-09-24T01:57:17.089Z"
   },
   {
    "duration": 26,
    "start_time": "2021-09-24T01:57:17.119Z"
   },
   {
    "duration": 29,
    "start_time": "2021-09-24T01:57:17.147Z"
   },
   {
    "duration": 24,
    "start_time": "2021-09-24T01:57:17.178Z"
   },
   {
    "duration": 33,
    "start_time": "2021-09-24T01:57:17.204Z"
   },
   {
    "duration": 71,
    "start_time": "2021-09-24T01:57:17.239Z"
   },
   {
    "duration": 55,
    "start_time": "2021-09-24T01:57:17.313Z"
   },
   {
    "duration": 20,
    "start_time": "2021-09-24T01:57:17.371Z"
   },
   {
    "duration": 87,
    "start_time": "2021-09-24T01:57:17.393Z"
   },
   {
    "duration": 27,
    "start_time": "2021-09-24T01:57:17.482Z"
   },
   {
    "duration": 36,
    "start_time": "2021-09-24T01:57:17.511Z"
   },
   {
    "duration": 31,
    "start_time": "2021-09-24T01:57:17.549Z"
   },
   {
    "duration": 22,
    "start_time": "2021-09-24T01:57:17.582Z"
   },
   {
    "duration": 110,
    "start_time": "2021-09-24T01:57:17.606Z"
   },
   {
    "duration": 57,
    "start_time": "2021-09-24T01:57:17.718Z"
   },
   {
    "duration": 47,
    "start_time": "2021-09-24T01:57:17.778Z"
   },
   {
    "duration": 23,
    "start_time": "2021-09-24T01:57:17.829Z"
   },
   {
    "duration": 43,
    "start_time": "2021-09-24T01:57:17.855Z"
   },
   {
    "duration": 6,
    "start_time": "2021-09-24T01:57:17.900Z"
   },
   {
    "duration": 35,
    "start_time": "2021-09-24T01:57:17.908Z"
   },
   {
    "duration": 30,
    "start_time": "2021-09-24T01:57:17.945Z"
   },
   {
    "duration": 610,
    "start_time": "2021-09-24T01:57:17.977Z"
   },
   {
    "duration": 1,
    "start_time": "2021-09-24T01:57:18.588Z"
   },
   {
    "duration": -4,
    "start_time": "2021-09-24T01:57:18.595Z"
   },
   {
    "duration": -8,
    "start_time": "2021-09-24T01:57:18.600Z"
   },
   {
    "duration": 11,
    "start_time": "2021-09-24T01:59:45.550Z"
   },
   {
    "duration": 5,
    "start_time": "2021-09-24T01:59:48.780Z"
   },
   {
    "duration": 5,
    "start_time": "2021-09-24T01:59:50.571Z"
   },
   {
    "duration": 17,
    "start_time": "2021-09-24T01:59:52.741Z"
   },
   {
    "duration": 7,
    "start_time": "2021-09-24T02:05:04.707Z"
   },
   {
    "duration": 4,
    "start_time": "2021-09-24T02:05:06.907Z"
   },
   {
    "duration": 3,
    "start_time": "2021-09-24T02:05:07.862Z"
   },
   {
    "duration": 10,
    "start_time": "2021-09-24T02:05:08.850Z"
   },
   {
    "duration": 8,
    "start_time": "2021-09-24T02:08:37.539Z"
   },
   {
    "duration": 11,
    "start_time": "2021-09-24T02:08:39.069Z"
   },
   {
    "duration": 7,
    "start_time": "2021-09-24T02:09:46.037Z"
   },
   {
    "duration": 11,
    "start_time": "2021-09-24T02:09:47.588Z"
   },
   {
    "duration": 10,
    "start_time": "2021-09-24T02:12:24.513Z"
   },
   {
    "duration": 804,
    "start_time": "2021-09-30T00:27:32.260Z"
   },
   {
    "duration": 28,
    "start_time": "2021-09-30T00:27:33.065Z"
   },
   {
    "duration": 28,
    "start_time": "2021-09-30T00:27:33.095Z"
   },
   {
    "duration": 23,
    "start_time": "2021-09-30T00:27:33.125Z"
   },
   {
    "duration": 15,
    "start_time": "2021-09-30T00:27:33.150Z"
   },
   {
    "duration": 8,
    "start_time": "2021-09-30T00:27:33.166Z"
   },
   {
    "duration": 8,
    "start_time": "2021-09-30T00:27:33.200Z"
   },
   {
    "duration": 5,
    "start_time": "2021-09-30T00:27:33.211Z"
   },
   {
    "duration": 4,
    "start_time": "2021-09-30T00:27:33.218Z"
   },
   {
    "duration": 7,
    "start_time": "2021-09-30T00:27:33.224Z"
   },
   {
    "duration": 5,
    "start_time": "2021-09-30T00:27:33.232Z"
   },
   {
    "duration": 6,
    "start_time": "2021-09-30T00:27:33.239Z"
   },
   {
    "duration": 8,
    "start_time": "2021-09-30T00:27:33.247Z"
   },
   {
    "duration": 44,
    "start_time": "2021-09-30T00:27:33.256Z"
   },
   {
    "duration": 14,
    "start_time": "2021-09-30T00:27:33.302Z"
   },
   {
    "duration": 41,
    "start_time": "2021-09-30T00:27:33.318Z"
   },
   {
    "duration": 54,
    "start_time": "2021-09-30T00:27:33.361Z"
   },
   {
    "duration": 12,
    "start_time": "2021-09-30T00:27:33.417Z"
   },
   {
    "duration": 46,
    "start_time": "2021-09-30T00:27:33.431Z"
   },
   {
    "duration": 35,
    "start_time": "2021-09-30T00:27:33.479Z"
   },
   {
    "duration": 10,
    "start_time": "2021-09-30T00:27:33.515Z"
   },
   {
    "duration": 18,
    "start_time": "2021-09-30T00:27:33.526Z"
   },
   {
    "duration": 13,
    "start_time": "2021-09-30T00:27:33.547Z"
   },
   {
    "duration": 93,
    "start_time": "2021-09-30T00:27:33.562Z"
   },
   {
    "duration": 45,
    "start_time": "2021-09-30T00:27:33.657Z"
   },
   {
    "duration": 32,
    "start_time": "2021-09-30T00:27:33.704Z"
   },
   {
    "duration": 5,
    "start_time": "2021-09-30T00:27:33.737Z"
   },
   {
    "duration": 41,
    "start_time": "2021-09-30T00:27:33.744Z"
   },
   {
    "duration": 4,
    "start_time": "2021-09-30T00:27:33.786Z"
   },
   {
    "duration": 20,
    "start_time": "2021-09-30T00:27:33.791Z"
   },
   {
    "duration": 5,
    "start_time": "2021-09-30T00:27:33.812Z"
   },
   {
    "duration": 9,
    "start_time": "2021-09-30T00:27:33.818Z"
   },
   {
    "duration": 9,
    "start_time": "2021-09-30T00:27:33.828Z"
   },
   {
    "duration": 8,
    "start_time": "2021-09-30T00:27:33.839Z"
   },
   {
    "duration": 71,
    "start_time": "2021-09-30T00:27:33.849Z"
   },
   {
    "duration": 5,
    "start_time": "2021-09-30T01:00:00.697Z"
   },
   {
    "duration": 2853,
    "start_time": "2021-09-30T01:02:24.147Z"
   },
   {
    "duration": 356,
    "start_time": "2021-09-30T01:03:03.504Z"
   },
   {
    "duration": 6,
    "start_time": "2021-09-30T01:03:27.818Z"
   },
   {
    "duration": 396,
    "start_time": "2021-09-30T01:03:30.176Z"
   },
   {
    "duration": 5,
    "start_time": "2021-09-30T01:13:24.679Z"
   },
   {
    "duration": 397,
    "start_time": "2021-09-30T01:13:26.843Z"
   },
   {
    "duration": 5,
    "start_time": "2021-09-30T01:14:28.085Z"
   },
   {
    "duration": 632,
    "start_time": "2021-09-30T01:14:30.309Z"
   },
   {
    "duration": 3,
    "start_time": "2021-09-30T01:33:23.833Z"
   },
   {
    "duration": 11,
    "start_time": "2021-09-30T01:33:37.803Z"
   },
   {
    "duration": 454,
    "start_time": "2021-09-30T01:34:08.471Z"
   },
   {
    "duration": 65,
    "start_time": "2021-09-30T01:34:51.537Z"
   },
   {
    "duration": 3,
    "start_time": "2021-09-30T01:35:12.043Z"
   },
   {
    "duration": 432,
    "start_time": "2021-09-30T01:35:15.851Z"
   },
   {
    "duration": 6,
    "start_time": "2021-09-30T01:42:48.400Z"
   },
   {
    "duration": 365,
    "start_time": "2021-09-30T01:47:47.494Z"
   },
   {
    "duration": 6,
    "start_time": "2021-09-30T01:50:45.537Z"
   },
   {
    "duration": 1407,
    "start_time": "2021-09-30T01:50:47.218Z"
   },
   {
    "duration": 14,
    "start_time": "2021-09-30T01:51:01.132Z"
   },
   {
    "duration": 6,
    "start_time": "2021-09-30T01:51:34.981Z"
   },
   {
    "duration": 67,
    "start_time": "2021-09-30T01:51:37.555Z"
   },
   {
    "duration": 16,
    "start_time": "2021-09-30T01:51:39.204Z"
   },
   {
    "duration": 5,
    "start_time": "2021-09-30T01:53:19.136Z"
   },
   {
    "duration": 15,
    "start_time": "2021-09-30T01:54:03.199Z"
   },
   {
    "duration": 12,
    "start_time": "2021-09-30T01:54:07.686Z"
   },
   {
    "duration": 10,
    "start_time": "2021-09-30T01:55:12.378Z"
   },
   {
    "duration": 5,
    "start_time": "2021-09-30T01:55:30.389Z"
   },
   {
    "duration": 65,
    "start_time": "2021-09-30T01:55:33.206Z"
   },
   {
    "duration": 12,
    "start_time": "2021-09-30T01:55:35.827Z"
   },
   {
    "duration": 294,
    "start_time": "2021-09-30T02:04:50.092Z"
   },
   {
    "duration": 20,
    "start_time": "2021-09-30T02:04:50.388Z"
   },
   {
    "duration": 24,
    "start_time": "2021-09-30T02:04:50.410Z"
   },
   {
    "duration": 23,
    "start_time": "2021-09-30T02:04:50.436Z"
   },
   {
    "duration": 45,
    "start_time": "2021-09-30T02:04:50.460Z"
   },
   {
    "duration": 8,
    "start_time": "2021-09-30T02:04:50.506Z"
   },
   {
    "duration": 14,
    "start_time": "2021-09-30T02:04:50.515Z"
   },
   {
    "duration": 5,
    "start_time": "2021-09-30T02:04:50.531Z"
   },
   {
    "duration": 6,
    "start_time": "2021-09-30T02:04:50.538Z"
   },
   {
    "duration": 6,
    "start_time": "2021-09-30T02:04:50.546Z"
   },
   {
    "duration": 8,
    "start_time": "2021-09-30T02:04:50.554Z"
   },
   {
    "duration": 7,
    "start_time": "2021-09-30T02:04:50.563Z"
   },
   {
    "duration": 6,
    "start_time": "2021-09-30T02:04:50.600Z"
   },
   {
    "duration": 8,
    "start_time": "2021-09-30T02:04:50.608Z"
   },
   {
    "duration": 15,
    "start_time": "2021-09-30T02:04:50.617Z"
   },
   {
    "duration": 33,
    "start_time": "2021-09-30T02:04:50.633Z"
   },
   {
    "duration": 50,
    "start_time": "2021-09-30T02:04:50.668Z"
   },
   {
    "duration": 12,
    "start_time": "2021-09-30T02:04:50.720Z"
   },
   {
    "duration": 41,
    "start_time": "2021-09-30T02:04:50.733Z"
   },
   {
    "duration": 36,
    "start_time": "2021-09-30T02:04:50.775Z"
   },
   {
    "duration": 10,
    "start_time": "2021-09-30T02:04:50.813Z"
   },
   {
    "duration": 19,
    "start_time": "2021-09-30T02:04:50.824Z"
   },
   {
    "duration": 13,
    "start_time": "2021-09-30T02:04:50.845Z"
   },
   {
    "duration": 79,
    "start_time": "2021-09-30T02:04:50.860Z"
   },
   {
    "duration": 29,
    "start_time": "2021-09-30T02:04:50.941Z"
   },
   {
    "duration": 45,
    "start_time": "2021-09-30T02:04:50.972Z"
   },
   {
    "duration": 3,
    "start_time": "2021-09-30T02:04:51.020Z"
   },
   {
    "duration": 29,
    "start_time": "2021-09-30T02:04:51.025Z"
   },
   {
    "duration": 4,
    "start_time": "2021-09-30T02:04:51.056Z"
   },
   {
    "duration": 19,
    "start_time": "2021-09-30T02:04:51.061Z"
   },
   {
    "duration": 19,
    "start_time": "2021-09-30T02:04:51.081Z"
   },
   {
    "duration": 8,
    "start_time": "2021-09-30T02:04:51.101Z"
   },
   {
    "duration": 10,
    "start_time": "2021-09-30T02:04:51.110Z"
   },
   {
    "duration": 11,
    "start_time": "2021-09-30T02:04:51.122Z"
   },
   {
    "duration": 79,
    "start_time": "2021-09-30T02:04:51.135Z"
   },
   {
    "duration": 12,
    "start_time": "2021-09-30T02:04:51.216Z"
   },
   {
    "duration": 28,
    "start_time": "2021-09-30T02:06:55.065Z"
   },
   {
    "duration": 18,
    "start_time": "2021-09-30T02:51:50.604Z"
   },
   {
    "duration": 19,
    "start_time": "2021-09-30T02:52:08.163Z"
   },
   {
    "duration": 22,
    "start_time": "2021-09-30T02:57:40.394Z"
   },
   {
    "duration": 28,
    "start_time": "2021-09-30T04:04:43.940Z"
   },
   {
    "duration": 28,
    "start_time": "2021-09-30T04:04:53.169Z"
   },
   {
    "duration": 36,
    "start_time": "2021-09-30T04:05:07.683Z"
   },
   {
    "duration": 196,
    "start_time": "2021-09-30T04:05:47.117Z"
   },
   {
    "duration": 1377,
    "start_time": "2021-09-30T04:05:54.649Z"
   },
   {
    "duration": 35,
    "start_time": "2021-09-30T04:06:01.441Z"
   },
   {
    "duration": 35,
    "start_time": "2021-09-30T04:06:54.978Z"
   },
   {
    "duration": 700,
    "start_time": "2021-09-30T04:16:44.126Z"
   },
   {
    "duration": 283,
    "start_time": "2021-09-30T04:18:15.137Z"
   },
   {
    "duration": 290,
    "start_time": "2021-09-30T04:18:21.580Z"
   },
   {
    "duration": 286,
    "start_time": "2021-09-30T04:20:45.649Z"
   },
   {
    "duration": 271,
    "start_time": "2021-09-30T04:21:49.143Z"
   },
   {
    "duration": 232,
    "start_time": "2021-09-30T04:21:53.997Z"
   },
   {
    "duration": 258,
    "start_time": "2021-09-30T04:22:01.270Z"
   },
   {
    "duration": 354,
    "start_time": "2021-09-30T04:22:09.031Z"
   },
   {
    "duration": 270,
    "start_time": "2021-09-30T04:22:13.279Z"
   },
   {
    "duration": 263,
    "start_time": "2021-09-30T04:22:52.320Z"
   },
   {
    "duration": 229,
    "start_time": "2021-09-30T04:22:56.290Z"
   },
   {
    "duration": 284,
    "start_time": "2021-09-30T04:23:29.229Z"
   },
   {
    "duration": 217,
    "start_time": "2021-09-30T04:23:35.973Z"
   },
   {
    "duration": 270,
    "start_time": "2021-09-30T04:23:42.365Z"
   },
   {
    "duration": 265,
    "start_time": "2021-09-30T04:24:07.077Z"
   },
   {
    "duration": 230,
    "start_time": "2021-09-30T04:24:13.187Z"
   },
   {
    "duration": 276,
    "start_time": "2021-09-30T04:24:20.477Z"
   },
   {
    "duration": 382,
    "start_time": "2021-09-30T04:24:26.141Z"
   },
   {
    "duration": 1178,
    "start_time": "2021-10-01T18:27:00.309Z"
   },
   {
    "duration": 27,
    "start_time": "2021-10-01T18:27:01.490Z"
   },
   {
    "duration": 34,
    "start_time": "2021-10-01T18:27:01.518Z"
   },
   {
    "duration": 28,
    "start_time": "2021-10-01T18:27:01.554Z"
   },
   {
    "duration": 16,
    "start_time": "2021-10-01T18:27:01.583Z"
   },
   {
    "duration": 9,
    "start_time": "2021-10-01T18:27:01.601Z"
   },
   {
    "duration": 42,
    "start_time": "2021-10-01T18:27:01.611Z"
   },
   {
    "duration": 25,
    "start_time": "2021-10-01T18:27:01.655Z"
   },
   {
    "duration": 18,
    "start_time": "2021-10-01T18:27:01.682Z"
   },
   {
    "duration": 22,
    "start_time": "2021-10-01T18:27:01.702Z"
   },
   {
    "duration": 10,
    "start_time": "2021-10-01T18:27:01.726Z"
   },
   {
    "duration": 24,
    "start_time": "2021-10-01T18:27:01.737Z"
   },
   {
    "duration": 19,
    "start_time": "2021-10-01T18:27:01.763Z"
   },
   {
    "duration": 22,
    "start_time": "2021-10-01T18:27:01.784Z"
   },
   {
    "duration": 19,
    "start_time": "2021-10-01T18:27:01.807Z"
   },
   {
    "duration": 51,
    "start_time": "2021-10-01T18:27:01.828Z"
   },
   {
    "duration": 33,
    "start_time": "2021-10-01T18:27:01.881Z"
   },
   {
    "duration": 15,
    "start_time": "2021-10-01T18:27:01.916Z"
   },
   {
    "duration": 74,
    "start_time": "2021-10-01T18:27:01.932Z"
   },
   {
    "duration": 18,
    "start_time": "2021-10-01T18:27:02.007Z"
   },
   {
    "duration": 29,
    "start_time": "2021-10-01T18:27:02.027Z"
   },
   {
    "duration": 32,
    "start_time": "2021-10-01T18:27:02.058Z"
   },
   {
    "duration": 17,
    "start_time": "2021-10-01T18:27:02.095Z"
   },
   {
    "duration": 100,
    "start_time": "2021-10-01T18:27:02.115Z"
   },
   {
    "duration": 52,
    "start_time": "2021-10-01T18:27:02.217Z"
   },
   {
    "duration": 35,
    "start_time": "2021-10-01T18:27:02.272Z"
   },
   {
    "duration": 8,
    "start_time": "2021-10-01T18:27:02.310Z"
   },
   {
    "duration": 52,
    "start_time": "2021-10-01T18:27:02.320Z"
   },
   {
    "duration": 6,
    "start_time": "2021-10-01T18:27:02.374Z"
   },
   {
    "duration": 12,
    "start_time": "2021-10-01T18:27:02.382Z"
   },
   {
    "duration": 9,
    "start_time": "2021-10-01T18:27:02.396Z"
   },
   {
    "duration": 9,
    "start_time": "2021-10-01T18:27:02.407Z"
   },
   {
    "duration": 32,
    "start_time": "2021-10-01T18:27:02.418Z"
   },
   {
    "duration": 6,
    "start_time": "2021-10-01T18:27:02.452Z"
   },
   {
    "duration": 79,
    "start_time": "2021-10-01T18:27:02.460Z"
   },
   {
    "duration": 18,
    "start_time": "2021-10-01T18:27:02.541Z"
   },
   {
    "duration": 412,
    "start_time": "2021-10-01T18:27:02.560Z"
   },
   {
    "duration": 275,
    "start_time": "2021-10-01T18:27:02.974Z"
   },
   {
    "duration": 237,
    "start_time": "2021-10-01T18:27:03.251Z"
   },
   {
    "duration": 278,
    "start_time": "2021-10-01T18:27:03.490Z"
   },
   {
    "duration": 38,
    "start_time": "2021-10-01T18:27:03.770Z"
   },
   {
    "duration": 43,
    "start_time": "2021-10-01T18:27:03.810Z"
   },
   {
    "duration": 884,
    "start_time": "2021-10-08T00:57:54.220Z"
   },
   {
    "duration": 28,
    "start_time": "2021-10-08T00:57:55.106Z"
   },
   {
    "duration": 28,
    "start_time": "2021-10-08T00:57:55.137Z"
   },
   {
    "duration": 33,
    "start_time": "2021-10-08T00:57:55.166Z"
   },
   {
    "duration": 14,
    "start_time": "2021-10-08T00:57:55.201Z"
   },
   {
    "duration": 7,
    "start_time": "2021-10-08T00:57:55.217Z"
   },
   {
    "duration": 11,
    "start_time": "2021-10-08T00:57:55.226Z"
   },
   {
    "duration": 40,
    "start_time": "2021-10-08T00:57:55.240Z"
   },
   {
    "duration": 6,
    "start_time": "2021-10-08T00:57:55.282Z"
   },
   {
    "duration": 6,
    "start_time": "2021-10-08T00:57:55.290Z"
   },
   {
    "duration": 4,
    "start_time": "2021-10-08T00:57:55.298Z"
   },
   {
    "duration": 6,
    "start_time": "2021-10-08T00:57:55.303Z"
   },
   {
    "duration": 8,
    "start_time": "2021-10-08T00:57:55.311Z"
   },
   {
    "duration": 5,
    "start_time": "2021-10-08T00:57:55.320Z"
   },
   {
    "duration": 55,
    "start_time": "2021-10-08T00:57:55.327Z"
   },
   {
    "duration": 39,
    "start_time": "2021-10-08T00:57:55.384Z"
   },
   {
    "duration": 29,
    "start_time": "2021-10-08T00:57:55.425Z"
   },
   {
    "duration": 30,
    "start_time": "2021-10-08T00:57:55.456Z"
   },
   {
    "duration": 44,
    "start_time": "2021-10-08T00:57:55.488Z"
   },
   {
    "duration": 18,
    "start_time": "2021-10-08T00:57:55.534Z"
   },
   {
    "duration": 32,
    "start_time": "2021-10-08T00:57:55.553Z"
   },
   {
    "duration": 21,
    "start_time": "2021-10-08T00:57:55.586Z"
   },
   {
    "duration": 14,
    "start_time": "2021-10-08T00:57:55.610Z"
   },
   {
    "duration": 85,
    "start_time": "2021-10-08T00:57:55.626Z"
   },
   {
    "duration": 37,
    "start_time": "2021-10-08T00:57:55.712Z"
   },
   {
    "duration": 47,
    "start_time": "2021-10-08T00:57:55.751Z"
   },
   {
    "duration": 7,
    "start_time": "2021-10-08T00:57:55.800Z"
   },
   {
    "duration": 25,
    "start_time": "2021-10-08T00:57:55.808Z"
   },
   {
    "duration": 4,
    "start_time": "2021-10-08T00:57:55.834Z"
   },
   {
    "duration": 9,
    "start_time": "2021-10-08T00:57:55.840Z"
   },
   {
    "duration": 26,
    "start_time": "2021-10-08T00:57:55.851Z"
   },
   {
    "duration": 9,
    "start_time": "2021-10-08T00:57:55.879Z"
   },
   {
    "duration": 10,
    "start_time": "2021-10-08T00:57:55.890Z"
   },
   {
    "duration": 7,
    "start_time": "2021-10-08T00:57:55.901Z"
   },
   {
    "duration": 84,
    "start_time": "2021-10-08T00:57:55.909Z"
   },
   {
    "duration": 12,
    "start_time": "2021-10-08T00:57:55.995Z"
   },
   {
    "duration": 373,
    "start_time": "2021-10-08T00:57:56.009Z"
   },
   {
    "duration": 254,
    "start_time": "2021-10-08T00:57:56.383Z"
   },
   {
    "duration": 215,
    "start_time": "2021-10-08T00:57:56.639Z"
   },
   {
    "duration": 241,
    "start_time": "2021-10-08T00:57:56.856Z"
   },
   {
    "duration": 35,
    "start_time": "2021-10-08T00:57:57.099Z"
   },
   {
    "duration": 42,
    "start_time": "2021-10-08T00:57:57.136Z"
   },
   {
    "duration": 354,
    "start_time": "2021-10-08T00:57:57.180Z"
   },
   {
    "duration": 21,
    "start_time": "2021-10-08T00:59:00.636Z"
   },
   {
    "duration": 5,
    "start_time": "2021-10-08T01:01:41.807Z"
   },
   {
    "duration": 6,
    "start_time": "2021-10-08T01:01:57.220Z"
   },
   {
    "duration": 6,
    "start_time": "2021-10-08T01:02:19.482Z"
   },
   {
    "duration": 6,
    "start_time": "2021-10-08T01:03:21.876Z"
   },
   {
    "duration": 304,
    "start_time": "2021-10-08T01:06:56.063Z"
   },
   {
    "duration": 1494,
    "start_time": "2021-10-08T01:07:03.301Z"
   },
   {
    "duration": 329,
    "start_time": "2021-10-08T01:07:29.584Z"
   },
   {
    "duration": 10,
    "start_time": "2021-10-08T01:21:20.064Z"
   },
   {
    "duration": 6,
    "start_time": "2021-10-08T01:22:59.466Z"
   },
   {
    "duration": 1312,
    "start_time": "2021-10-09T06:39:36.833Z"
   },
   {
    "duration": 75,
    "start_time": "2021-10-09T06:39:38.147Z"
   },
   {
    "duration": 91,
    "start_time": "2021-10-09T06:39:38.224Z"
   },
   {
    "duration": 24,
    "start_time": "2021-10-09T06:39:38.317Z"
   },
   {
    "duration": 70,
    "start_time": "2021-10-09T06:39:38.342Z"
   },
   {
    "duration": 8,
    "start_time": "2021-10-09T06:39:38.414Z"
   },
   {
    "duration": 77,
    "start_time": "2021-10-09T06:39:38.423Z"
   },
   {
    "duration": 6,
    "start_time": "2021-10-09T06:39:38.502Z"
   },
   {
    "duration": 5,
    "start_time": "2021-10-09T06:39:38.510Z"
   },
   {
    "duration": 7,
    "start_time": "2021-10-09T06:39:38.516Z"
   },
   {
    "duration": 6,
    "start_time": "2021-10-09T06:39:38.524Z"
   },
   {
    "duration": 7,
    "start_time": "2021-10-09T06:39:38.600Z"
   },
   {
    "duration": 9,
    "start_time": "2021-10-09T06:39:38.608Z"
   },
   {
    "duration": 10,
    "start_time": "2021-10-09T06:39:38.619Z"
   },
   {
    "duration": 74,
    "start_time": "2021-10-09T06:39:38.630Z"
   },
   {
    "duration": 102,
    "start_time": "2021-10-09T06:39:38.705Z"
   },
   {
    "duration": 30,
    "start_time": "2021-10-09T06:39:38.809Z"
   },
   {
    "duration": 12,
    "start_time": "2021-10-09T06:39:38.900Z"
   },
   {
    "duration": 105,
    "start_time": "2021-10-09T06:39:38.914Z"
   },
   {
    "duration": 18,
    "start_time": "2021-10-09T06:39:39.021Z"
   },
   {
    "duration": 11,
    "start_time": "2021-10-09T06:39:39.100Z"
   },
   {
    "duration": 88,
    "start_time": "2021-10-09T06:39:39.112Z"
   },
   {
    "duration": 19,
    "start_time": "2021-10-09T06:39:39.205Z"
   },
   {
    "duration": 180,
    "start_time": "2021-10-09T06:39:39.226Z"
   },
   {
    "duration": 93,
    "start_time": "2021-10-09T06:39:39.408Z"
   },
   {
    "duration": 34,
    "start_time": "2021-10-09T06:39:39.503Z"
   },
   {
    "duration": 64,
    "start_time": "2021-10-09T06:39:39.539Z"
   },
   {
    "duration": 38,
    "start_time": "2021-10-09T06:39:39.605Z"
   },
   {
    "duration": 55,
    "start_time": "2021-10-09T06:39:39.645Z"
   },
   {
    "duration": 11,
    "start_time": "2021-10-09T06:39:39.702Z"
   },
   {
    "duration": 6,
    "start_time": "2021-10-09T06:39:39.716Z"
   },
   {
    "duration": 10,
    "start_time": "2021-10-09T06:39:39.724Z"
   },
   {
    "duration": 70,
    "start_time": "2021-10-09T06:39:39.736Z"
   },
   {
    "duration": 6,
    "start_time": "2021-10-09T06:39:39.808Z"
   },
   {
    "duration": 126,
    "start_time": "2021-10-09T06:39:39.816Z"
   },
   {
    "duration": 66,
    "start_time": "2021-10-09T06:39:39.943Z"
   },
   {
    "duration": 836,
    "start_time": "2021-10-09T06:39:40.011Z"
   },
   {
    "duration": 593,
    "start_time": "2021-10-09T06:39:40.848Z"
   },
   {
    "duration": 501,
    "start_time": "2021-10-09T06:39:41.443Z"
   },
   {
    "duration": 580,
    "start_time": "2021-10-09T06:39:41.946Z"
   },
   {
    "duration": 96,
    "start_time": "2021-10-09T06:39:42.527Z"
   },
   {
    "duration": 6,
    "start_time": "2021-10-09T06:39:42.625Z"
   },
   {
    "duration": 572,
    "start_time": "2021-10-09T06:39:42.633Z"
   },
   {
    "duration": 9,
    "start_time": "2021-10-09T06:39:43.207Z"
   },
   {
    "duration": 6,
    "start_time": "2021-10-09T06:39:43.218Z"
   },
   {
    "duration": 818,
    "start_time": "2021-10-09T07:18:42.781Z"
   },
   {
    "duration": 30,
    "start_time": "2021-10-09T07:18:43.601Z"
   },
   {
    "duration": 31,
    "start_time": "2021-10-09T07:18:43.632Z"
   },
   {
    "duration": 44,
    "start_time": "2021-10-09T07:18:43.664Z"
   },
   {
    "duration": 15,
    "start_time": "2021-10-09T07:18:43.709Z"
   },
   {
    "duration": 7,
    "start_time": "2021-10-09T07:18:43.725Z"
   },
   {
    "duration": 10,
    "start_time": "2021-10-09T07:18:43.734Z"
   },
   {
    "duration": 5,
    "start_time": "2021-10-09T07:18:43.746Z"
   },
   {
    "duration": 5,
    "start_time": "2021-10-09T07:18:43.753Z"
   },
   {
    "duration": 41,
    "start_time": "2021-10-09T07:18:43.759Z"
   },
   {
    "duration": 3,
    "start_time": "2021-10-09T07:18:43.802Z"
   },
   {
    "duration": 9,
    "start_time": "2021-10-09T07:18:43.806Z"
   },
   {
    "duration": 9,
    "start_time": "2021-10-09T07:18:43.817Z"
   },
   {
    "duration": 7,
    "start_time": "2021-10-09T07:18:43.827Z"
   },
   {
    "duration": 16,
    "start_time": "2021-10-09T07:18:43.836Z"
   },
   {
    "duration": 70,
    "start_time": "2021-10-09T07:18:43.853Z"
   },
   {
    "duration": 28,
    "start_time": "2021-10-09T07:18:43.925Z"
   },
   {
    "duration": 12,
    "start_time": "2021-10-09T07:18:43.955Z"
   },
   {
    "duration": 72,
    "start_time": "2021-10-09T07:18:43.968Z"
   },
   {
    "duration": 18,
    "start_time": "2021-10-09T07:18:44.042Z"
   },
   {
    "duration": 11,
    "start_time": "2021-10-09T07:18:44.061Z"
   },
   {
    "duration": 43,
    "start_time": "2021-10-09T07:18:44.074Z"
   },
   {
    "duration": 15,
    "start_time": "2021-10-09T07:18:44.121Z"
   },
   {
    "duration": 86,
    "start_time": "2021-10-09T07:18:44.138Z"
   },
   {
    "duration": 34,
    "start_time": "2021-10-09T07:18:44.226Z"
   },
   {
    "duration": 48,
    "start_time": "2021-10-09T07:18:44.261Z"
   },
   {
    "duration": 5,
    "start_time": "2021-10-09T07:18:44.311Z"
   },
   {
    "duration": 33,
    "start_time": "2021-10-09T07:18:44.318Z"
   },
   {
    "duration": 5,
    "start_time": "2021-10-09T07:18:44.353Z"
   },
   {
    "duration": 13,
    "start_time": "2021-10-09T07:18:44.359Z"
   },
   {
    "duration": 25,
    "start_time": "2021-10-09T07:18:44.374Z"
   },
   {
    "duration": 8,
    "start_time": "2021-10-09T07:18:44.401Z"
   },
   {
    "duration": 10,
    "start_time": "2021-10-09T07:18:44.411Z"
   },
   {
    "duration": 5,
    "start_time": "2021-10-09T07:18:44.423Z"
   },
   {
    "duration": 87,
    "start_time": "2021-10-09T07:18:44.430Z"
   },
   {
    "duration": 14,
    "start_time": "2021-10-09T07:18:44.519Z"
   },
   {
    "duration": 398,
    "start_time": "2021-10-09T07:18:44.535Z"
   },
   {
    "duration": 290,
    "start_time": "2021-10-09T07:18:44.935Z"
   },
   {
    "duration": 247,
    "start_time": "2021-10-09T07:18:45.227Z"
   },
   {
    "duration": 294,
    "start_time": "2021-10-09T07:18:45.476Z"
   },
   {
    "duration": 54,
    "start_time": "2021-10-09T07:18:45.772Z"
   },
   {
    "duration": 8,
    "start_time": "2021-10-09T07:18:45.828Z"
   },
   {
    "duration": 366,
    "start_time": "2021-10-09T07:18:45.838Z"
   },
   {
    "duration": 12,
    "start_time": "2021-10-09T07:18:46.206Z"
   },
   {
    "duration": 6,
    "start_time": "2021-10-09T07:18:46.219Z"
   },
   {
    "duration": 1034,
    "start_time": "2021-10-09T14:45:27.442Z"
   },
   {
    "duration": 28,
    "start_time": "2021-10-09T14:45:28.479Z"
   },
   {
    "duration": 33,
    "start_time": "2021-10-09T14:45:28.510Z"
   },
   {
    "duration": 48,
    "start_time": "2021-10-09T14:45:28.544Z"
   },
   {
    "duration": 16,
    "start_time": "2021-10-09T14:45:28.594Z"
   },
   {
    "duration": 7,
    "start_time": "2021-10-09T14:45:28.612Z"
   },
   {
    "duration": 14,
    "start_time": "2021-10-09T14:45:28.621Z"
   },
   {
    "duration": 40,
    "start_time": "2021-10-09T14:45:28.637Z"
   },
   {
    "duration": 5,
    "start_time": "2021-10-09T14:45:28.679Z"
   },
   {
    "duration": 10,
    "start_time": "2021-10-09T14:45:28.685Z"
   },
   {
    "duration": 5,
    "start_time": "2021-10-09T14:45:28.697Z"
   },
   {
    "duration": 7,
    "start_time": "2021-10-09T14:45:28.703Z"
   },
   {
    "duration": 13,
    "start_time": "2021-10-09T14:45:28.711Z"
   },
   {
    "duration": 8,
    "start_time": "2021-10-09T14:45:28.726Z"
   },
   {
    "duration": 42,
    "start_time": "2021-10-09T14:45:28.735Z"
   },
   {
    "duration": 42,
    "start_time": "2021-10-09T14:45:28.779Z"
   },
   {
    "duration": 32,
    "start_time": "2021-10-09T14:45:28.823Z"
   },
   {
    "duration": 13,
    "start_time": "2021-10-09T14:45:28.878Z"
   },
   {
    "duration": 54,
    "start_time": "2021-10-09T14:45:28.893Z"
   },
   {
    "duration": 40,
    "start_time": "2021-10-09T14:45:28.949Z"
   },
   {
    "duration": 12,
    "start_time": "2021-10-09T14:45:28.991Z"
   },
   {
    "duration": 22,
    "start_time": "2021-10-09T14:45:29.005Z"
   },
   {
    "duration": 45,
    "start_time": "2021-10-09T14:45:29.031Z"
   },
   {
    "duration": 63,
    "start_time": "2021-10-09T14:45:29.079Z"
   },
   {
    "duration": 53,
    "start_time": "2021-10-09T14:45:29.144Z"
   },
   {
    "duration": 32,
    "start_time": "2021-10-09T14:45:29.199Z"
   },
   {
    "duration": 9,
    "start_time": "2021-10-09T14:45:29.233Z"
   },
   {
    "duration": 43,
    "start_time": "2021-10-09T14:45:29.244Z"
   },
   {
    "duration": 5,
    "start_time": "2021-10-09T14:45:29.289Z"
   },
   {
    "duration": 11,
    "start_time": "2021-10-09T14:45:29.295Z"
   },
   {
    "duration": 5,
    "start_time": "2021-10-09T14:45:29.307Z"
   },
   {
    "duration": 8,
    "start_time": "2021-10-09T14:45:29.314Z"
   },
   {
    "duration": 10,
    "start_time": "2021-10-09T14:45:29.324Z"
   },
   {
    "duration": 7,
    "start_time": "2021-10-09T14:45:29.335Z"
   },
   {
    "duration": 101,
    "start_time": "2021-10-09T14:45:29.344Z"
   },
   {
    "duration": 12,
    "start_time": "2021-10-09T14:45:29.447Z"
   },
   {
    "duration": 378,
    "start_time": "2021-10-09T14:45:29.476Z"
   },
   {
    "duration": 270,
    "start_time": "2021-10-09T14:45:29.856Z"
   },
   {
    "duration": 232,
    "start_time": "2021-10-09T14:45:30.128Z"
   },
   {
    "duration": 265,
    "start_time": "2021-10-09T14:45:30.362Z"
   },
   {
    "duration": 46,
    "start_time": "2021-10-09T14:45:30.629Z"
   },
   {
    "duration": 7,
    "start_time": "2021-10-09T14:45:30.678Z"
   },
   {
    "duration": 338,
    "start_time": "2021-10-09T14:45:30.687Z"
   },
   {
    "duration": 11,
    "start_time": "2021-10-09T14:45:31.027Z"
   },
   {
    "duration": 18,
    "start_time": "2021-10-09T14:45:31.040Z"
   },
   {
    "duration": 6,
    "start_time": "2021-10-09T14:48:23.980Z"
   },
   {
    "duration": 13,
    "start_time": "2021-10-09T14:51:35.059Z"
   },
   {
    "duration": 12,
    "start_time": "2021-10-09T14:51:39.457Z"
   },
   {
    "duration": 365,
    "start_time": "2021-10-09T14:52:06.369Z"
   },
   {
    "duration": 6,
    "start_time": "2021-10-09T14:52:18.977Z"
   },
   {
    "duration": 6,
    "start_time": "2021-10-09T14:56:07.999Z"
   },
   {
    "duration": 8,
    "start_time": "2021-10-09T14:56:36.368Z"
   },
   {
    "duration": 10,
    "start_time": "2021-10-09T14:56:38.664Z"
   },
   {
    "duration": 6,
    "start_time": "2021-10-09T14:56:40.520Z"
   },
   {
    "duration": 333,
    "start_time": "2021-10-09T15:00:04.336Z"
   },
   {
    "duration": 263,
    "start_time": "2021-10-09T15:00:53.082Z"
   },
   {
    "duration": 225,
    "start_time": "2021-10-09T15:01:16.370Z"
   },
   {
    "duration": 7763,
    "start_time": "2021-10-09T15:01:37.948Z"
   },
   {
    "duration": 318,
    "start_time": "2021-10-09T15:02:11.681Z"
   },
   {
    "duration": 22,
    "start_time": "2021-10-09T15:02:12.001Z"
   },
   {
    "duration": 27,
    "start_time": "2021-10-09T15:02:12.025Z"
   },
   {
    "duration": 42,
    "start_time": "2021-10-09T15:02:12.053Z"
   },
   {
    "duration": 16,
    "start_time": "2021-10-09T15:02:12.097Z"
   },
   {
    "duration": 8,
    "start_time": "2021-10-09T15:02:12.115Z"
   },
   {
    "duration": 10,
    "start_time": "2021-10-09T15:02:12.125Z"
   },
   {
    "duration": 7,
    "start_time": "2021-10-09T15:02:12.138Z"
   },
   {
    "duration": 34,
    "start_time": "2021-10-09T15:02:12.147Z"
   },
   {
    "duration": 10,
    "start_time": "2021-10-09T15:02:12.184Z"
   },
   {
    "duration": 6,
    "start_time": "2021-10-09T15:02:12.196Z"
   },
   {
    "duration": 7,
    "start_time": "2021-10-09T15:02:12.204Z"
   },
   {
    "duration": 8,
    "start_time": "2021-10-09T15:02:12.213Z"
   },
   {
    "duration": 8,
    "start_time": "2021-10-09T15:02:12.223Z"
   },
   {
    "duration": 58,
    "start_time": "2021-10-09T15:02:12.232Z"
   },
   {
    "duration": 37,
    "start_time": "2021-10-09T15:02:12.292Z"
   },
   {
    "duration": 52,
    "start_time": "2021-10-09T15:02:12.331Z"
   },
   {
    "duration": 13,
    "start_time": "2021-10-09T15:02:12.385Z"
   },
   {
    "duration": 43,
    "start_time": "2021-10-09T15:02:12.400Z"
   },
   {
    "duration": 43,
    "start_time": "2021-10-09T15:02:12.444Z"
   },
   {
    "duration": 11,
    "start_time": "2021-10-09T15:02:12.489Z"
   },
   {
    "duration": 22,
    "start_time": "2021-10-09T15:02:12.501Z"
   },
   {
    "duration": 15,
    "start_time": "2021-10-09T15:02:12.527Z"
   },
   {
    "duration": 82,
    "start_time": "2021-10-09T15:02:12.545Z"
   },
   {
    "duration": 32,
    "start_time": "2021-10-09T15:02:12.628Z"
   },
   {
    "duration": 45,
    "start_time": "2021-10-09T15:02:12.662Z"
   },
   {
    "duration": 4,
    "start_time": "2021-10-09T15:02:12.709Z"
   },
   {
    "duration": 33,
    "start_time": "2021-10-09T15:02:12.714Z"
   },
   {
    "duration": 5,
    "start_time": "2021-10-09T15:02:12.748Z"
   },
   {
    "duration": 33,
    "start_time": "2021-10-09T15:02:12.754Z"
   },
   {
    "duration": 4,
    "start_time": "2021-10-09T15:02:12.789Z"
   },
   {
    "duration": 8,
    "start_time": "2021-10-09T15:02:12.795Z"
   },
   {
    "duration": 13,
    "start_time": "2021-10-09T15:02:12.805Z"
   },
   {
    "duration": 7,
    "start_time": "2021-10-09T15:02:12.820Z"
   },
   {
    "duration": 5,
    "start_time": "2021-10-09T15:02:12.829Z"
   },
   {
    "duration": 104,
    "start_time": "2021-10-09T15:02:12.835Z"
   },
   {
    "duration": 14,
    "start_time": "2021-10-09T15:02:12.941Z"
   },
   {
    "duration": 301,
    "start_time": "2021-10-09T15:02:12.956Z"
   },
   {
    "duration": 278,
    "start_time": "2021-10-09T15:02:13.259Z"
   },
   {
    "duration": 242,
    "start_time": "2021-10-09T15:02:13.539Z"
   },
   {
    "duration": 310,
    "start_time": "2021-10-09T15:02:13.783Z"
   },
   {
    "duration": 37,
    "start_time": "2021-10-09T15:02:14.094Z"
   },
   {
    "duration": 8,
    "start_time": "2021-10-09T15:02:14.132Z"
   },
   {
    "duration": 7,
    "start_time": "2021-10-09T15:02:14.142Z"
   },
   {
    "duration": 11,
    "start_time": "2021-10-09T15:02:14.177Z"
   },
   {
    "duration": 5,
    "start_time": "2021-10-09T15:02:14.189Z"
   },
   {
    "duration": 1103,
    "start_time": "2021-10-09T17:16:13.284Z"
   },
   {
    "duration": 42,
    "start_time": "2021-10-09T17:16:14.390Z"
   },
   {
    "duration": 50,
    "start_time": "2021-10-09T17:16:14.435Z"
   },
   {
    "duration": 36,
    "start_time": "2021-10-09T17:16:14.487Z"
   },
   {
    "duration": 47,
    "start_time": "2021-10-09T17:16:14.525Z"
   },
   {
    "duration": 13,
    "start_time": "2021-10-09T17:16:14.574Z"
   },
   {
    "duration": 14,
    "start_time": "2021-10-09T17:16:14.590Z"
   },
   {
    "duration": 8,
    "start_time": "2021-10-09T17:16:14.608Z"
   },
   {
    "duration": 48,
    "start_time": "2021-10-09T17:16:14.619Z"
   },
   {
    "duration": 9,
    "start_time": "2021-10-09T17:16:14.669Z"
   },
   {
    "duration": 7,
    "start_time": "2021-10-09T17:16:14.680Z"
   },
   {
    "duration": 9,
    "start_time": "2021-10-09T17:16:14.689Z"
   },
   {
    "duration": 12,
    "start_time": "2021-10-09T17:16:14.701Z"
   },
   {
    "duration": 54,
    "start_time": "2021-10-09T17:16:14.715Z"
   },
   {
    "duration": 20,
    "start_time": "2021-10-09T17:16:14.771Z"
   },
   {
    "duration": 87,
    "start_time": "2021-10-09T17:16:14.794Z"
   },
   {
    "duration": 44,
    "start_time": "2021-10-09T17:16:14.884Z"
   },
   {
    "duration": 38,
    "start_time": "2021-10-09T17:16:14.930Z"
   },
   {
    "duration": 67,
    "start_time": "2021-10-09T17:16:14.971Z"
   },
   {
    "duration": 43,
    "start_time": "2021-10-09T17:16:15.041Z"
   },
   {
    "duration": 14,
    "start_time": "2021-10-09T17:16:15.086Z"
   },
   {
    "duration": 61,
    "start_time": "2021-10-09T17:16:15.102Z"
   },
   {
    "duration": 21,
    "start_time": "2021-10-09T17:16:15.168Z"
   },
   {
    "duration": 112,
    "start_time": "2021-10-09T17:16:15.192Z"
   },
   {
    "duration": 60,
    "start_time": "2021-10-09T17:16:15.306Z"
   },
   {
    "duration": 48,
    "start_time": "2021-10-09T17:16:15.368Z"
   },
   {
    "duration": 12,
    "start_time": "2021-10-09T17:16:15.419Z"
   },
   {
    "duration": 63,
    "start_time": "2021-10-09T17:16:15.433Z"
   },
   {
    "duration": 6,
    "start_time": "2021-10-09T17:16:15.499Z"
   },
   {
    "duration": 23,
    "start_time": "2021-10-09T17:16:15.507Z"
   },
   {
    "duration": 31,
    "start_time": "2021-10-09T17:16:15.532Z"
   },
   {
    "duration": 26,
    "start_time": "2021-10-09T17:16:15.566Z"
   },
   {
    "duration": 16,
    "start_time": "2021-10-09T17:16:15.594Z"
   },
   {
    "duration": 14,
    "start_time": "2021-10-09T17:16:15.612Z"
   },
   {
    "duration": 8,
    "start_time": "2021-10-09T17:16:15.628Z"
   },
   {
    "duration": 124,
    "start_time": "2021-10-09T17:16:15.663Z"
   },
   {
    "duration": 19,
    "start_time": "2021-10-09T17:16:15.789Z"
   },
   {
    "duration": 626,
    "start_time": "2021-10-09T17:16:15.810Z"
   },
   {
    "duration": 472,
    "start_time": "2021-10-09T17:16:16.438Z"
   },
   {
    "duration": 395,
    "start_time": "2021-10-09T17:16:16.912Z"
   },
   {
    "duration": 478,
    "start_time": "2021-10-09T17:16:17.309Z"
   },
   {
    "duration": 85,
    "start_time": "2021-10-09T17:16:17.790Z"
   },
   {
    "duration": 11,
    "start_time": "2021-10-09T17:16:17.878Z"
   },
   {
    "duration": 480,
    "start_time": "2021-10-09T17:16:17.892Z"
   },
   {
    "duration": 15,
    "start_time": "2021-10-09T17:16:18.374Z"
   },
   {
    "duration": 11,
    "start_time": "2021-10-09T17:16:18.391Z"
   },
   {
    "duration": 875,
    "start_time": "2021-10-10T01:30:22.858Z"
   },
   {
    "duration": 28,
    "start_time": "2021-10-10T01:30:23.735Z"
   },
   {
    "duration": 30,
    "start_time": "2021-10-10T01:30:23.765Z"
   },
   {
    "duration": 52,
    "start_time": "2021-10-10T01:30:23.797Z"
   },
   {
    "duration": 15,
    "start_time": "2021-10-10T01:30:23.850Z"
   },
   {
    "duration": 8,
    "start_time": "2021-10-10T01:30:23.867Z"
   },
   {
    "duration": 16,
    "start_time": "2021-10-10T01:30:23.876Z"
   },
   {
    "duration": 10,
    "start_time": "2021-10-10T01:30:23.893Z"
   },
   {
    "duration": 12,
    "start_time": "2021-10-10T01:30:23.906Z"
   },
   {
    "duration": 15,
    "start_time": "2021-10-10T01:30:23.920Z"
   },
   {
    "duration": 5,
    "start_time": "2021-10-10T01:30:23.944Z"
   },
   {
    "duration": 12,
    "start_time": "2021-10-10T01:30:23.950Z"
   },
   {
    "duration": 9,
    "start_time": "2021-10-10T01:30:23.964Z"
   },
   {
    "duration": 9,
    "start_time": "2021-10-10T01:30:23.975Z"
   },
   {
    "duration": 22,
    "start_time": "2021-10-10T01:30:23.986Z"
   },
   {
    "duration": 57,
    "start_time": "2021-10-10T01:30:24.009Z"
   },
   {
    "duration": 30,
    "start_time": "2021-10-10T01:30:24.067Z"
   },
   {
    "duration": 11,
    "start_time": "2021-10-10T01:30:24.099Z"
   },
   {
    "duration": 68,
    "start_time": "2021-10-10T01:30:24.112Z"
   },
   {
    "duration": 18,
    "start_time": "2021-10-10T01:30:24.182Z"
   },
   {
    "duration": 10,
    "start_time": "2021-10-10T01:30:24.202Z"
   },
   {
    "duration": 43,
    "start_time": "2021-10-10T01:30:24.214Z"
   },
   {
    "duration": 13,
    "start_time": "2021-10-10T01:30:24.259Z"
   },
   {
    "duration": 77,
    "start_time": "2021-10-10T01:30:24.273Z"
   },
   {
    "duration": 34,
    "start_time": "2021-10-10T01:30:24.351Z"
   },
   {
    "duration": 33,
    "start_time": "2021-10-10T01:30:24.386Z"
   },
   {
    "duration": 30,
    "start_time": "2021-10-10T01:30:24.422Z"
   },
   {
    "duration": 29,
    "start_time": "2021-10-10T01:30:24.454Z"
   },
   {
    "duration": 4,
    "start_time": "2021-10-10T01:30:24.485Z"
   },
   {
    "duration": 24,
    "start_time": "2021-10-10T01:30:24.491Z"
   },
   {
    "duration": 9,
    "start_time": "2021-10-10T01:30:24.516Z"
   },
   {
    "duration": 16,
    "start_time": "2021-10-10T01:30:24.526Z"
   },
   {
    "duration": 13,
    "start_time": "2021-10-10T01:30:24.544Z"
   },
   {
    "duration": 16,
    "start_time": "2021-10-10T01:30:24.559Z"
   },
   {
    "duration": 6,
    "start_time": "2021-10-10T01:30:24.577Z"
   },
   {
    "duration": 75,
    "start_time": "2021-10-10T01:30:24.584Z"
   },
   {
    "duration": 12,
    "start_time": "2021-10-10T01:30:24.661Z"
   },
   {
    "duration": 392,
    "start_time": "2021-10-10T01:30:24.675Z"
   },
   {
    "duration": 269,
    "start_time": "2021-10-10T01:30:25.069Z"
   },
   {
    "duration": 217,
    "start_time": "2021-10-10T01:30:25.339Z"
   },
   {
    "duration": 255,
    "start_time": "2021-10-10T01:30:25.558Z"
   },
   {
    "duration": 46,
    "start_time": "2021-10-10T01:30:25.815Z"
   },
   {
    "duration": 7,
    "start_time": "2021-10-10T01:30:25.863Z"
   },
   {
    "duration": 13,
    "start_time": "2021-10-10T01:30:25.872Z"
   },
   {
    "duration": 391,
    "start_time": "2021-10-10T01:30:25.886Z"
   },
   {
    "duration": 9,
    "start_time": "2021-10-10T01:30:26.279Z"
   },
   {
    "duration": 10,
    "start_time": "2021-10-10T01:30:26.290Z"
   },
   {
    "duration": 5,
    "start_time": "2021-10-10T01:32:37.941Z"
   },
   {
    "duration": 1075,
    "start_time": "2021-10-10T01:34:21.402Z"
   },
   {
    "duration": 1003,
    "start_time": "2021-10-10T01:34:42.924Z"
   },
   {
    "duration": 902,
    "start_time": "2021-10-10T01:34:50.101Z"
   },
   {
    "duration": 7,
    "start_time": "2021-10-10T01:36:25.486Z"
   },
   {
    "duration": 5,
    "start_time": "2021-10-10T01:36:27.955Z"
   },
   {
    "duration": 1038,
    "start_time": "2021-10-10T01:36:30.037Z"
   },
   {
    "duration": 10,
    "start_time": "2021-10-10T01:39:29.180Z"
   },
   {
    "duration": 5,
    "start_time": "2021-10-10T01:39:39.401Z"
   },
   {
    "duration": 290,
    "start_time": "2021-10-10T01:40:11.333Z"
   },
   {
    "duration": 20,
    "start_time": "2021-10-10T01:40:11.625Z"
   },
   {
    "duration": 24,
    "start_time": "2021-10-10T01:40:11.647Z"
   },
   {
    "duration": 23,
    "start_time": "2021-10-10T01:40:11.673Z"
   },
   {
    "duration": 16,
    "start_time": "2021-10-10T01:40:11.697Z"
   },
   {
    "duration": 33,
    "start_time": "2021-10-10T01:40:11.715Z"
   },
   {
    "duration": 11,
    "start_time": "2021-10-10T01:40:11.749Z"
   },
   {
    "duration": 6,
    "start_time": "2021-10-10T01:40:11.762Z"
   },
   {
    "duration": 5,
    "start_time": "2021-10-10T01:40:11.771Z"
   },
   {
    "duration": 6,
    "start_time": "2021-10-10T01:40:11.777Z"
   },
   {
    "duration": 6,
    "start_time": "2021-10-10T01:40:11.784Z"
   },
   {
    "duration": 11,
    "start_time": "2021-10-10T01:40:11.791Z"
   },
   {
    "duration": 41,
    "start_time": "2021-10-10T01:40:11.803Z"
   },
   {
    "duration": 6,
    "start_time": "2021-10-10T01:40:11.846Z"
   },
   {
    "duration": 16,
    "start_time": "2021-10-10T01:40:11.854Z"
   },
   {
    "duration": 35,
    "start_time": "2021-10-10T01:40:11.872Z"
   },
   {
    "duration": 51,
    "start_time": "2021-10-10T01:40:11.909Z"
   },
   {
    "duration": 12,
    "start_time": "2021-10-10T01:40:11.961Z"
   },
   {
    "duration": 41,
    "start_time": "2021-10-10T01:40:11.974Z"
   },
   {
    "duration": 34,
    "start_time": "2021-10-10T01:40:12.016Z"
   },
   {
    "duration": 10,
    "start_time": "2021-10-10T01:40:12.051Z"
   },
   {
    "duration": 22,
    "start_time": "2021-10-10T01:40:12.063Z"
   },
   {
    "duration": 14,
    "start_time": "2021-10-10T01:40:12.086Z"
   },
   {
    "duration": 80,
    "start_time": "2021-10-10T01:40:12.101Z"
   },
   {
    "duration": 30,
    "start_time": "2021-10-10T01:40:12.182Z"
   },
   {
    "duration": 48,
    "start_time": "2021-10-10T01:40:12.214Z"
   },
   {
    "duration": 3,
    "start_time": "2021-10-10T01:40:12.266Z"
   },
   {
    "duration": 27,
    "start_time": "2021-10-10T01:40:12.271Z"
   },
   {
    "duration": 3,
    "start_time": "2021-10-10T01:40:12.300Z"
   },
   {
    "duration": 13,
    "start_time": "2021-10-10T01:40:12.305Z"
   },
   {
    "duration": 26,
    "start_time": "2021-10-10T01:40:12.319Z"
   },
   {
    "duration": 9,
    "start_time": "2021-10-10T01:40:12.347Z"
   },
   {
    "duration": 10,
    "start_time": "2021-10-10T01:40:12.357Z"
   },
   {
    "duration": 7,
    "start_time": "2021-10-10T01:40:12.370Z"
   },
   {
    "duration": 6,
    "start_time": "2021-10-10T01:40:12.379Z"
   },
   {
    "duration": 93,
    "start_time": "2021-10-10T01:40:12.386Z"
   },
   {
    "duration": 13,
    "start_time": "2021-10-10T01:40:12.480Z"
   },
   {
    "duration": 282,
    "start_time": "2021-10-10T01:40:12.495Z"
   },
   {
    "duration": 266,
    "start_time": "2021-10-10T01:40:12.778Z"
   },
   {
    "duration": 227,
    "start_time": "2021-10-10T01:40:13.046Z"
   },
   {
    "duration": 262,
    "start_time": "2021-10-10T01:40:13.275Z"
   },
   {
    "duration": 36,
    "start_time": "2021-10-10T01:40:13.539Z"
   },
   {
    "duration": 7,
    "start_time": "2021-10-10T01:40:13.577Z"
   },
   {
    "duration": 6,
    "start_time": "2021-10-10T01:40:13.586Z"
   },
   {
    "duration": 1023,
    "start_time": "2021-10-10T01:40:13.593Z"
   },
   {
    "duration": 7,
    "start_time": "2021-10-10T01:40:14.617Z"
   },
   {
    "duration": 20,
    "start_time": "2021-10-10T01:40:14.626Z"
   },
   {
    "duration": 13,
    "start_time": "2021-10-10T01:40:14.648Z"
   },
   {
    "duration": 8,
    "start_time": "2021-10-10T01:40:14.663Z"
   },
   {
    "duration": 1459,
    "start_time": "2021-10-14T16:12:53.092Z"
   },
   {
    "duration": 36,
    "start_time": "2021-10-14T16:12:54.553Z"
   },
   {
    "duration": 36,
    "start_time": "2021-10-14T16:12:54.591Z"
   },
   {
    "duration": 26,
    "start_time": "2021-10-14T16:12:54.645Z"
   },
   {
    "duration": 14,
    "start_time": "2021-10-14T16:12:54.672Z"
   },
   {
    "duration": 7,
    "start_time": "2021-10-14T16:12:54.688Z"
   },
   {
    "duration": 25,
    "start_time": "2021-10-14T16:12:54.697Z"
   },
   {
    "duration": 23,
    "start_time": "2021-10-14T16:12:54.725Z"
   },
   {
    "duration": 7,
    "start_time": "2021-10-14T16:12:54.751Z"
   },
   {
    "duration": 10,
    "start_time": "2021-10-14T16:12:54.760Z"
   },
   {
    "duration": 15,
    "start_time": "2021-10-14T16:12:54.771Z"
   },
   {
    "duration": 20,
    "start_time": "2021-10-14T16:12:54.787Z"
   },
   {
    "duration": 14,
    "start_time": "2021-10-14T16:12:54.809Z"
   },
   {
    "duration": 17,
    "start_time": "2021-10-14T16:12:54.825Z"
   },
   {
    "duration": 24,
    "start_time": "2021-10-14T16:12:54.844Z"
   },
   {
    "duration": 45,
    "start_time": "2021-10-14T16:12:54.870Z"
   },
   {
    "duration": 38,
    "start_time": "2021-10-14T16:12:54.917Z"
   },
   {
    "duration": 12,
    "start_time": "2021-10-14T16:12:54.957Z"
   },
   {
    "duration": 67,
    "start_time": "2021-10-14T16:12:54.970Z"
   },
   {
    "duration": 16,
    "start_time": "2021-10-14T16:12:55.039Z"
   },
   {
    "duration": 10,
    "start_time": "2021-10-14T16:12:55.057Z"
   },
   {
    "duration": 30,
    "start_time": "2021-10-14T16:12:55.068Z"
   },
   {
    "duration": 13,
    "start_time": "2021-10-14T16:12:55.101Z"
   },
   {
    "duration": 79,
    "start_time": "2021-10-14T16:12:55.116Z"
   },
   {
    "duration": 33,
    "start_time": "2021-10-14T16:12:55.196Z"
   },
   {
    "duration": 42,
    "start_time": "2021-10-14T16:12:55.230Z"
   },
   {
    "duration": 8,
    "start_time": "2021-10-14T16:12:55.274Z"
   },
   {
    "duration": 26,
    "start_time": "2021-10-14T16:12:55.283Z"
   },
   {
    "duration": 5,
    "start_time": "2021-10-14T16:12:55.311Z"
   },
   {
    "duration": 33,
    "start_time": "2021-10-14T16:12:55.318Z"
   },
   {
    "duration": 13,
    "start_time": "2021-10-14T16:12:55.353Z"
   },
   {
    "duration": 11,
    "start_time": "2021-10-14T16:12:55.368Z"
   },
   {
    "duration": 9,
    "start_time": "2021-10-14T16:12:55.381Z"
   },
   {
    "duration": 9,
    "start_time": "2021-10-14T16:12:55.392Z"
   },
   {
    "duration": 6,
    "start_time": "2021-10-14T16:12:55.402Z"
   },
   {
    "duration": 83,
    "start_time": "2021-10-14T16:12:55.409Z"
   },
   {
    "duration": 11,
    "start_time": "2021-10-14T16:12:55.493Z"
   },
   {
    "duration": 387,
    "start_time": "2021-10-14T16:12:55.506Z"
   },
   {
    "duration": 288,
    "start_time": "2021-10-14T16:12:55.894Z"
   },
   {
    "duration": 232,
    "start_time": "2021-10-14T16:12:56.183Z"
   },
   {
    "duration": 258,
    "start_time": "2021-10-14T16:12:56.416Z"
   },
   {
    "duration": 33,
    "start_time": "2021-10-14T16:12:56.676Z"
   },
   {
    "duration": 7,
    "start_time": "2021-10-14T16:12:56.710Z"
   },
   {
    "duration": 25,
    "start_time": "2021-10-14T16:12:56.719Z"
   },
   {
    "duration": 962,
    "start_time": "2021-10-14T16:12:56.746Z"
   },
   {
    "duration": 7,
    "start_time": "2021-10-14T16:12:57.709Z"
   },
   {
    "duration": 429,
    "start_time": "2021-10-14T16:12:57.717Z"
   },
   {
    "duration": 9,
    "start_time": "2021-10-14T16:12:58.148Z"
   },
   {
    "duration": 24,
    "start_time": "2021-10-14T16:12:58.159Z"
   }
  ],
  "kernelspec": {
   "display_name": "Python 3",
   "language": "python",
   "name": "python3"
  },
  "language_info": {
   "codemirror_mode": {
    "name": "ipython",
    "version": 3
   },
   "file_extension": ".py",
   "mimetype": "text/x-python",
   "name": "python",
   "nbconvert_exporter": "python",
   "pygments_lexer": "ipython3",
   "version": "3.7.4"
  },
  "toc": {
   "base_numbering": 1,
   "nav_menu": {},
   "number_sections": true,
   "sideBar": true,
   "skip_h1_title": true,
   "title_cell": "Table of Contents",
   "title_sidebar": "Contents",
   "toc_cell": false,
   "toc_position": {},
   "toc_section_display": true,
   "toc_window_display": false
  }
 },
 "nbformat": 4,
 "nbformat_minor": 4
}
